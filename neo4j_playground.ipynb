{
  "cells": [
    {
      "cell_type": "markdown",
      "metadata": {},
      "source": [
        "# Neo4j Hello World (Notebook)\n",
        "\n",
        "This notebook connects to a local Neo4j **Community** instance (via Docker), creates a tiny graph, and queries it into a pandas DataFrame.\n",
        "\n",
        "**Assumes** Neo4j is running at `bolt://localhost:${URI_PORT}` with the user and password set in the `.env` file.\n"
      ]
    },
    {
      "cell_type": "code",
      "execution_count": 22,
      "metadata": {},
      "outputs": [
        {
          "name": "stdout",
          "output_type": "stream",
          "text": [
            "Connecting to Neo4j at bolt://localhost:7687 with user neo4j and password test1234\n"
          ]
        }
      ],
      "source": [
        "# Optional: install dependencies if running outside the repo venv\n",
        "# !pip install neo4j pandas\n",
        "import os\n",
        "from dotenv import load_dotenv  \n",
        "load_dotenv()  # Load local environment variables\n",
        "\n",
        "URI = \"bolt://localhost:\" + os.environ.get(\"URI_PORT\")\n",
        "NEO4J_USER = os.environ.get(\"NEO4J_USER\")\n",
        "NEO4J_PWD = os.environ.get(\"NEO4J_PASSWORD\")\n",
        "print(f\"Connecting to Neo4j at {URI} with user {NEO4J_USER} and password {NEO4J_PWD}\")"
      ]
    },
    {
      "cell_type": "code",
      "execution_count": 23,
      "id": "2f7b41f3",
      "metadata": {},
      "outputs": [],
      "source": [
        "import yaml\n",
        "from pathlib import Path\n",
        "\n",
        "# load cypher queries from yaml file\n",
        "queries = yaml.safe_load(Path(\"queries.yaml\").read_text())\n",
        "queries.keys()  \n",
        "create_seed = queries[\"create_seed\"]\n",
        "match_person = queries[\"match_person\"]\n",
        "match_company = queries[\"match_company\"]\n",
        "match_adjacency = queries[\"match_adjacency\"]\n",
        "delete_all = queries[\"delete_all\"]"
      ]
    },
    {
      "cell_type": "markdown",
      "id": "9afd84e3",
      "metadata": {},
      "source": [
        "## Using the Neo4j driver"
      ]
    },
    {
      "cell_type": "code",
      "execution_count": 24,
      "metadata": {},
      "outputs": [
        {
          "data": {
            "text/plain": [
              "<neo4j._sync.driver.BoltDriver at 0x750f3aca25d0>"
            ]
          },
          "execution_count": 24,
          "metadata": {},
          "output_type": "execute_result"
        }
      ],
      "source": [
        "from neo4j import GraphDatabase\n",
        "\n",
        "driver = GraphDatabase.driver(URI, auth=(NEO4J_USER, NEO4J_PWD))\n",
        "driver"
      ]
    },
    {
      "cell_type": "code",
      "execution_count": 25,
      "id": "33f18af2",
      "metadata": {},
      "outputs": [
        {
          "name": "stdout",
          "output_type": "stream",
          "text": [
            "\n",
            "== Clearing database (DETACH DELETE all nodes)\n",
            "Database cleared.\n",
            "\n",
            "== Creating sample data\n",
            "ok\n",
            "\n",
            "== Query: list all people\n",
            "<Record p.name='Paula' age=25>\n",
            "<Record p.name='Guillermo' age=26>\n",
            "<Record p.name='Gabriela' age=26>\n",
            "<Record p.name='Iria' age=27>\n",
            "<Record p.name='Cristina' age=27>\n",
            "\n",
            "== Query: list all companies\n",
            "<Record name='Indra' industry='Engineering'>\n",
            "<Record name='CIEMAT' industry='Scientific Research'>\n",
            "<Record name='CBM' industry='Scientific Research'>\n",
            "\n",
            "== Query: adjacency (who knows whom)\n",
            "<Record src='Cristina' neighbors=['Gabriela', 'Iria']>\n",
            "<Record src='Gabriela' neighbors=['Cristina', 'Iria']>\n",
            "<Record src='Guillermo' neighbors=['Paula', 'Iria']>\n",
            "<Record src='Iria' neighbors=['Cristina', 'Paula', 'Gabriela', 'Guillermo']>\n",
            "<Record src='Paula' neighbors=['Guillermo', 'Iria']>\n"
          ]
        }
      ],
      "source": [
        "with driver.session() as session:\n",
        "    print(\"\\n== Clearing database (DETACH DELETE all nodes)\")\n",
        "    wipe = True  # set True to delete everything\n",
        "    if wipe:\n",
        "        session.run(queries[\"delete_all\"])\n",
        "        print(\"Database cleared.\")\n",
        "    else:\n",
        "        print(\"Cleanup skipped.\")\n",
        "        \n",
        "    print(\"\\n== Creating sample data\")\n",
        "    \n",
        "    session.run(queries[\"create_seed\"])\n",
        "    print(\"ok\")\n",
        "\n",
        "    print(\"\\n== Query: list all people\")\n",
        "    records = session.run(queries[\"match_person\"])\n",
        "    for r in records:\n",
        "        print(r)\n",
        "        \n",
        "    \n",
        "    print(\"\\n== Query: list all companies\")\n",
        "    records = session.run(queries[\"match_company\"])\n",
        "    for r in records:\n",
        "        print(r)\n",
        "\n",
        "    print(\"\\n== Query: adjacency (who knows whom)\")\n",
        "    records = session.run(queries[\"match_adjacency\"])\n",
        "    for r in records:\n",
        "        print(r)"
      ]
    },
    {
      "cell_type": "code",
      "execution_count": null,
      "metadata": {},
      "outputs": [],
      "source": [
        "# Optional cleanup: wipe all data in the DB (use with care!)\n",
        "wipe = True  # set True to delete everything\n",
        "if wipe:\n",
        "    with driver.session() as session:\n",
        "        session.run(queries[\"delete_all\"])\n",
        "    print(\"Database cleared.\")\n",
        "else:\n",
        "    print(\"Cleanup skipped.\")\n"
      ]
    },
    {
      "cell_type": "code",
      "execution_count": null,
      "metadata": {},
      "outputs": [],
      "source": [
        "driver.close()\n",
        "print(\"Driver closed.\")\n"
      ]
    },
    {
      "cell_type": "markdown",
      "id": "11515b4d",
      "metadata": {},
      "source": [
        "## Using Langchain wrapper for Neo4j"
      ]
    },
    {
      "cell_type": "code",
      "execution_count": null,
      "id": "93f7c53e",
      "metadata": {},
      "outputs": [],
      "source": [
        "# # ----------------------------------\n",
        "# # Using Langchain wrapper for Neo4j\n",
        "# # ----------------------------------\n",
        "# from langchain_neo4j import Neo4jGraph\n",
        "# graph = Neo4jGraph(url=URI, username=NEO4J_USER, password=NEO4J_PWD)\n",
        "# print(\"\\n== Creating sample data\")\n",
        "# graph.query(create_query)\n",
        "\n",
        "# print(\"\\n== Query: list all people\")\n",
        "# people = graph.query(match_query_1)\n",
        "# for row in people:\n",
        "#     print(\" -\", row[\"name\"])\n",
        "\n",
        "# print(\"\\n== Query: adjacency (who knows whom)\")\n",
        "# adj = graph.query(match_query_2)\n",
        "# for row in adj:\n",
        "#     print(f\" {row['src']} -> {row['neighbors']}\")\n",
        "\n",
        "# print(\"\\n== Clearing database (DETACH DELETE all nodes)\")\n",
        "# wipe = True  # set True to delete everything\n",
        "# if wipe:\n",
        "#     graph.query(delete_query)\n",
        "#     print(\"Database cleared.\")\n",
        "# else:\n",
        "#     print(\"Cleanup skipped.\")\n",
        "    \n",
        "# print(\"\\n== Done.\")"
      ]
    }
  ],
  "metadata": {
    "kernelspec": {
      "display_name": ".venv",
      "language": "python",
      "name": "python3"
    },
    "language_info": {
      "codemirror_mode": {
        "name": "ipython",
        "version": 3
      },
      "file_extension": ".py",
      "mimetype": "text/x-python",
      "name": "python",
      "nbconvert_exporter": "python",
      "pygments_lexer": "ipython3",
      "version": "3.12.3"
    }
  },
  "nbformat": 4,
  "nbformat_minor": 5
}
