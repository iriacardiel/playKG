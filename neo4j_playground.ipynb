{
  "cells": [
    {
      "cell_type": "markdown",
      "metadata": {},
      "source": [
        "# Neo4j Hello World (Notebook)\n",
        "\n",
        "This notebook connects to a local Neo4j **Community** instance (via Docker), creates a tiny graph, and queries it into a pandas DataFrame.\n",
        "\n",
        "**Assumes** Neo4j is running at `bolt://localhost:${URI_PORT}` with the user and password set in the `.env` file.\n"
      ]
    },
    {
      "cell_type": "code",
      "execution_count": 58,
      "metadata": {},
      "outputs": [
        {
          "name": "stdout",
          "output_type": "stream",
          "text": [
            "Connecting to Neo4j at bolt://localhost:7687 with user neo4j and password test1234\n"
          ]
        }
      ],
      "source": [
        "# Optional: install dependencies if running outside the repo venv\n",
        "# !pip install neo4j pandas\n",
        "import os\n",
        "from dotenv import load_dotenv  \n",
        "load_dotenv()  # Load local environment variables\n",
        "\n",
        "URI = \"bolt://localhost:\" + os.environ.get(\"URI_PORT\")\n",
        "NEO4J_USER = os.environ.get(\"NEO4J_USER\")\n",
        "NEO4J_PWD = os.environ.get(\"NEO4J_PASSWORD\")\n",
        "print(f\"Connecting to Neo4j at {URI} with user {NEO4J_USER} and password {NEO4J_PWD}\")"
      ]
    },
    {
      "cell_type": "code",
      "execution_count": 59,
      "id": "2f7b41f3",
      "metadata": {},
      "outputs": [
        {
          "data": {
            "text/plain": [
              "dict_keys(['create_seed', 'match_person', 'match_company', 'match_adjacency', 'delete_all'])"
            ]
          },
          "execution_count": 59,
          "metadata": {},
          "output_type": "execute_result"
        }
      ],
      "source": [
        "import yaml\n",
        "from pathlib import Path\n",
        "\n",
        "# load cypher queries from yaml file\n",
        "queries = yaml.safe_load(Path(\"queries.yaml\").read_text())\n",
        "queries.keys()  # list available queries"
      ]
    },
    {
      "cell_type": "markdown",
      "id": "9afd84e3",
      "metadata": {},
      "source": [
        "## Using the Neo4j driver"
      ]
    },
    {
      "cell_type": "code",
      "execution_count": 60,
      "metadata": {},
      "outputs": [
        {
          "data": {
            "text/plain": [
              "<neo4j._sync.driver.BoltDriver at 0x750f33bf1370>"
            ]
          },
          "execution_count": 60,
          "metadata": {},
          "output_type": "execute_result"
        }
      ],
      "source": [
        "from neo4j import GraphDatabase\n",
        "\n",
        "driver = GraphDatabase.driver(URI, auth=(NEO4J_USER, NEO4J_PWD))\n",
        "driver"
      ]
    },
    {
      "cell_type": "code",
      "execution_count": 61,
      "id": "33f18af2",
      "metadata": {},
      "outputs": [
        {
          "name": "stdout",
          "output_type": "stream",
          "text": [
            "Database cleared.\n",
            "\n",
            "== Creating sample data\n",
            "ok\n",
            "\n",
            "== Query: list all people\n",
            "<Record name='Paula' age=25 education='Computer Engineering'>\n",
            "<Record name='Guillermo' age=26 education='Industrial Engineering'>\n",
            "<Record name='Gabriela' age=26 education='Physics'>\n",
            "<Record name='Iria' age=27 education='Physics'>\n",
            "<Record name='Cristina' age=27 education='Physics'>\n",
            "\n",
            "== Query: list all companies\n",
            "<Record company_name='Indra' industry='Engineering'>\n",
            "<Record company_name='CIEMAT' industry='Scientific Research'>\n",
            "<Record company_name='CBM' industry='Scientific Research'>\n",
            "\n",
            "== Query: adjacency (who knows whom)\n",
            "<Record person='Cristina' knows=['Gabriela', 'Iria'] works_at='CBM'>\n",
            "<Record person='Gabriela' knows=['Cristina', 'Iria'] works_at='CIEMAT'>\n",
            "<Record person='Guillermo' knows=['Paula', 'Iria'] works_at='Indra'>\n",
            "<Record person='Iria' knows=['Cristina', 'Paula', 'Gabriela', 'Guillermo'] works_at='Indra'>\n",
            "<Record person='Paula' knows=['Guillermo', 'Iria'] works_at='Indra'>\n",
            "Cleanup skipped.\n"
          ]
        }
      ],
      "source": [
        "wipe_at_init = True  # set True to delete everything at the start\n",
        "wipe_at_end = False  # set True to delete everything at the end\n",
        "\n",
        "with driver.session() as session:\n",
        "    \n",
        "    if wipe_at_init:\n",
        "        session.run(queries[\"delete_all\"])\n",
        "        print(\"Database cleared.\")\n",
        "    else:\n",
        "        print(\"Cleanup skipped.\")\n",
        "        \n",
        "    print(\"\\n== Creating sample data\")\n",
        "    \n",
        "    session.run(queries[\"create_seed\"])\n",
        "    print(\"ok\")\n",
        "\n",
        "    print(\"\\n== Query: list all people\")\n",
        "    records = session.run(queries[\"match_person\"])\n",
        "    for r in records:\n",
        "        print(r)\n",
        "        \n",
        "    \n",
        "    print(\"\\n== Query: list all companies\")\n",
        "    records = session.run(queries[\"match_company\"])\n",
        "    for r in records:\n",
        "        print(r)\n",
        "\n",
        "    print(\"\\n== Query: adjacency (who knows whom)\")\n",
        "    records = session.run(queries[\"match_adjacency\"])\n",
        "    for r in records:\n",
        "        print(r)\n",
        "        \n",
        "        \n",
        "    if wipe_at_end:\n",
        "        session.run(queries[\"delete_all\"])\n",
        "        print(\"Database cleared.\")\n",
        "    else:\n",
        "        print(\"Cleanup skipped.\")"
      ]
    },
    {
      "cell_type": "code",
      "execution_count": 62,
      "metadata": {},
      "outputs": [
        {
          "name": "stdout",
          "output_type": "stream",
          "text": [
            "Driver closed.\n"
          ]
        }
      ],
      "source": [
        "driver.close()\n",
        "print(\"Driver closed.\")"
      ]
    },
    {
      "cell_type": "markdown",
      "id": "11515b4d",
      "metadata": {},
      "source": [
        "## Using Langchain wrapper for Neo4j"
      ]
    },
    {
      "cell_type": "code",
      "execution_count": 63,
      "id": "93f7c53e",
      "metadata": {},
      "outputs": [
        {
          "name": "stdout",
          "output_type": "stream",
          "text": [
            "\n",
            "== Clearing database (DETACH DELETE all nodes)\n",
            "Database cleared.\n",
            "\n",
            "== Creating sample data\n",
            "\n",
            "== Query: list all people\n",
            "{'name': 'Paula', 'age': 25, 'education': 'Computer Engineering'}\n",
            "{'name': 'Guillermo', 'age': 26, 'education': 'Industrial Engineering'}\n",
            "{'name': 'Gabriela', 'age': 26, 'education': 'Physics'}\n",
            "{'name': 'Iria', 'age': 27, 'education': 'Physics'}\n",
            "{'name': 'Cristina', 'age': 27, 'education': 'Physics'}\n",
            "\n",
            "== Query: list all companies\n",
            "{'company_name': 'Indra', 'industry': 'Engineering'}\n",
            "{'company_name': 'CIEMAT', 'industry': 'Scientific Research'}\n",
            "{'company_name': 'CBM', 'industry': 'Scientific Research'}\n",
            "\n",
            "== Query: adjacency (who knows whom)\n",
            "{'person': 'Cristina', 'knows': ['Gabriela', 'Iria'], 'works_at': 'CBM'}\n",
            "{'person': 'Gabriela', 'knows': ['Cristina', 'Iria'], 'works_at': 'CIEMAT'}\n",
            "{'person': 'Guillermo', 'knows': ['Paula', 'Iria'], 'works_at': 'Indra'}\n",
            "{'person': 'Iria', 'knows': ['Cristina', 'Paula', 'Gabriela', 'Guillermo'], 'works_at': 'Indra'}\n",
            "{'person': 'Paula', 'knows': ['Guillermo', 'Iria'], 'works_at': 'Indra'}\n",
            "Cleanup skipped.\n",
            "\n",
            "== Done.\n"
          ]
        }
      ],
      "source": [
        "from langchain_neo4j import Neo4jGraph\n",
        "graph = Neo4jGraph(url=URI, username=NEO4J_USER, password=NEO4J_PWD)\n",
        "print(\"\\n== Clearing database (DETACH DELETE all nodes)\")\n",
        "wipe_at_init = True  # set True to delete everything at the start\n",
        "wipe_at_end = False  # set True to delete everything at the end\n",
        "\n",
        "if wipe_at_init:\n",
        "    graph.query(queries[\"delete_all\"])\n",
        "    print(\"Database cleared.\")\n",
        "else:\n",
        "    print(\"Cleanup skipped.\")\n",
        "    \n",
        "print(\"\\n== Creating sample data\")\n",
        "graph.query(queries[\"create_seed\"])\n",
        "\n",
        "print(\"\\n== Query: list all people\")\n",
        "people = graph.query(queries[\"match_person\"])\n",
        "for row in people:\n",
        "    print(row)\n",
        "    \n",
        "print(\"\\n== Query: list all companies\")\n",
        "people = graph.query(queries[\"match_company\"])\n",
        "for row in people:\n",
        "    print(row)\n",
        "\n",
        "print(\"\\n== Query: adjacency (who knows whom)\")\n",
        "adj = graph.query(queries[\"match_adjacency\"])\n",
        "for row in adj:\n",
        "    print(row)\n",
        "\n",
        "if wipe_at_end:\n",
        "    graph.query(queries[\"delete_all\"])\n",
        "    print(\"Database cleared.\")\n",
        "else:\n",
        "    print(\"Cleanup skipped.\")\n",
        "    \n",
        "print(\"\\n== Done.\")\n"
      ]
    }
  ],
  "metadata": {
    "kernelspec": {
      "display_name": ".venv",
      "language": "python",
      "name": "python3"
    },
    "language_info": {
      "codemirror_mode": {
        "name": "ipython",
        "version": 3
      },
      "file_extension": ".py",
      "mimetype": "text/x-python",
      "name": "python",
      "nbconvert_exporter": "python",
      "pygments_lexer": "ipython3",
      "version": "3.12.3"
    }
  },
  "nbformat": 4,
  "nbformat_minor": 5
}
