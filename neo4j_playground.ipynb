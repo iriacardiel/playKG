{
  "cells": [
    {
      "cell_type": "markdown",
      "metadata": {},
      "source": [
        "# Neo4j Hello World (Notebook)\n",
        "\n",
        "This notebook connects to a local Neo4j **Community** instance (via Docker), creates a tiny graph, and queries it into a pandas DataFrame.\n",
        "\n",
        "**Assumes** Neo4j is running at `bolt://localhost:${URI_PORT}` with the user and password set in the `.env` file.\n"
      ]
    },
    {
      "cell_type": "code",
      "execution_count": 1,
      "metadata": {},
      "outputs": [
        {
          "name": "stdout",
          "output_type": "stream",
          "text": [
            "Connecting to Neo4j at bolt://localhost:7687 with user neo4j and password test1234\n"
          ]
        }
      ],
      "source": [
        "# Optional: install dependencies if running outside the repo venv\n",
        "# !pip install neo4j pandas\n",
        "import os\n",
        "from dotenv import load_dotenv  \n",
        "load_dotenv()  # Load local environment variables\n",
        "\n",
        "URI = \"bolt://localhost:\" + os.environ.get(\"URI_PORT\")\n",
        "NEO4J_USER = os.environ.get(\"NEO4J_USER\")\n",
        "NEO4J_PWD = os.environ.get(\"NEO4J_PASSWORD\")\n",
        "NEO4J_DB = os.getenv(\"NEO4J_DATABASE\", \"neo4j\")    # 👈 choose DB here\n",
        "\n",
        "print(f\"Connecting to Neo4j at {URI} with user {NEO4J_USER} and password {NEO4J_PWD}\")"
      ]
    },
    {
      "cell_type": "code",
      "execution_count": 2,
      "id": "2f7b41f3",
      "metadata": {},
      "outputs": [
        {
          "data": {
            "text/plain": [
              "dict_keys(['create_seed', 'match_person', 'match_company', 'match_adjacency', 'delete_all', 'constraints'])"
            ]
          },
          "execution_count": 2,
          "metadata": {},
          "output_type": "execute_result"
        }
      ],
      "source": [
        "import yaml\n",
        "from pathlib import Path\n",
        "\n",
        "# load cypher queries from yaml file\n",
        "queries = yaml.safe_load(Path(\"queries.yaml\").read_text())\n",
        "queries.keys()  # list available queries"
      ]
    },
    {
      "cell_type": "markdown",
      "id": "9afd84e3",
      "metadata": {},
      "source": [
        "## Using the Neo4j driver"
      ]
    },
    {
      "cell_type": "code",
      "execution_count": 3,
      "metadata": {},
      "outputs": [
        {
          "data": {
            "text/plain": [
              "<neo4j._sync.driver.BoltDriver at 0x74c41dac44a0>"
            ]
          },
          "execution_count": 3,
          "metadata": {},
          "output_type": "execute_result"
        }
      ],
      "source": [
        "from neo4j import GraphDatabase\n",
        "\n",
        "driver = GraphDatabase.driver(URI, auth=(NEO4J_USER, NEO4J_PWD))\n",
        "driver"
      ]
    },
    {
      "cell_type": "code",
      "execution_count": 4,
      "id": "33f18af2",
      "metadata": {},
      "outputs": [
        {
          "name": "stdout",
          "output_type": "stream",
          "text": [
            "Connected to Neo4j database: neo4j\n",
            "\n",
            "== Creating constraints (if not exist)\n",
            "ok\n",
            "\n",
            "== Init Cleanup.\n",
            "ok\n",
            "\n",
            "== Creating sample data\n",
            "ok\n",
            "\n",
            "== Query: list all people\n",
            "<Record name='Paula' age=25 education='Computer Engineering'>\n",
            "<Record name='Guillermo' age=26 education='Industrial Engineering'>\n",
            "<Record name='Gabriela' age=26 education='Physics'>\n",
            "<Record name='Iria' age=27 education='Physics'>\n",
            "<Record name='Cristina' age=27 education='Physics'>\n",
            "\n",
            "== Query: list all companies\n",
            "<Record company_name='Indra' industry='Engineering'>\n",
            "<Record company_name='CBM' industry='Scientific Research'>\n",
            "<Record company_name='CIEMAT' industry='Scientific Research'>\n",
            "\n",
            "== Query: adjacency (who knows whom)\n",
            "<Record person='Cristina' knows=['Gabriela', 'Iria'] works_at='CBM'>\n",
            "<Record person='Gabriela' knows=['Cristina', 'Iria'] works_at='CIEMAT'>\n",
            "<Record person='Guillermo' knows=['Paula', 'Iria'] works_at='Indra'>\n",
            "<Record person='Iria' knows=['Cristina', 'Paula', 'Gabriela', 'Guillermo'] works_at='Indra'>\n",
            "<Record person='Paula' knows=['Guillermo', 'Iria'] works_at='Indra'>\n",
            "\n",
            "== End Cleanup.\n",
            "skipped\n"
          ]
        }
      ],
      "source": [
        "wipe_at_init = True  # set True to delete everything at the start\n",
        "wipe_at_end = False  # set True to delete everything at the end\n",
        "\n",
        "with driver.session(database=NEO4J_DB) as session:\n",
        "    dbinfo = session.run(\"CALL db.info()\").single()\n",
        "    print(f\"Connected to Neo4j database: {dbinfo['name']}\")\n",
        "    \n",
        "    print(\"\\n== Creating constraints (if not exist)\")\n",
        "    for c in queries[\"constraints\"]:\n",
        "        session.run(c)\n",
        "    print(\"ok\")\n",
        "    \n",
        "    print(\"\\n== Init Cleanup.\")\n",
        "    if wipe_at_init:\n",
        "        session.run(queries[\"delete_all\"])\n",
        "        print(\"ok\")\n",
        "    else:\n",
        "        print(\"skipped\")\n",
        "        \n",
        "    print(\"\\n== Creating sample data\")\n",
        "    \n",
        "    session.run(queries[\"create_seed\"])\n",
        "    print(\"ok\")\n",
        "\n",
        "    print(\"\\n== Query: list all people\")\n",
        "    records = session.run(queries[\"match_person\"]) # <class 'neo4j.work.result.Result'>, convert to  <class 'list'> to see contents: list(records)\n",
        "    for r in records:\n",
        "        print(r)\n",
        "        \n",
        "    \n",
        "    print(\"\\n== Query: list all companies\")\n",
        "    records = session.run(queries[\"match_company\"]) # <class 'neo4j.work.result.Result'>, convert to  <class 'list'> to see contents: list(records)\n",
        "    for r in records:\n",
        "        print(r)\n",
        "\n",
        "    print(\"\\n== Query: adjacency (who knows whom)\")\n",
        "    records = session.run(queries[\"match_adjacency\"]) # <class 'neo4j.work.result.Result'>, convert to  <class 'list'> to see contents: list(records)\n",
        "    for r in records:\n",
        "        print(r)\n",
        "        \n",
        "    print(\"\\n== End Cleanup.\")\n",
        "    if wipe_at_end:\n",
        "        session.run(queries[\"delete_all\"])\n",
        "        print(\"ok\")\n",
        "    else:\n",
        "        print(\"skipped\")"
      ]
    },
    {
      "cell_type": "code",
      "execution_count": 5,
      "metadata": {},
      "outputs": [
        {
          "name": "stdout",
          "output_type": "stream",
          "text": [
            "Driver closed.\n"
          ]
        }
      ],
      "source": [
        "driver.close()\n",
        "print(\"Driver closed.\")"
      ]
    },
    {
      "cell_type": "markdown",
      "id": "11515b4d",
      "metadata": {},
      "source": [
        "## Using Langchain wrapper for Neo4j"
      ]
    },
    {
      "cell_type": "code",
      "execution_count": 6,
      "id": "fd4c609b",
      "metadata": {},
      "outputs": [],
      "source": [
        "from langchain_neo4j import Neo4jGraph\n",
        "kg = Neo4jGraph(url=URI, \n",
        "                   username=NEO4J_USER, \n",
        "                   password=NEO4J_PWD, \n",
        "                   database=NEO4J_DB\n",
        "    )"
      ]
    },
    {
      "cell_type": "code",
      "execution_count": 7,
      "id": "93f7c53e",
      "metadata": {},
      "outputs": [
        {
          "name": "stdout",
          "output_type": "stream",
          "text": [
            "== Connected to database: neo4j\n",
            "\n",
            "== Clearing database (DETACH DELETE all nodes)\n",
            "\n",
            "== Creating constraints (if not exist)\n",
            "ok\n",
            "\n",
            "== Init Clean up.\n",
            "ok\n",
            "\n",
            "== Creating sample data\n",
            "ok\n",
            "\n",
            "== Query: list all people\n",
            "{'name': 'Paula', 'age': 25, 'education': 'Computer Engineering'}\n",
            "{'name': 'Guillermo', 'age': 26, 'education': 'Industrial Engineering'}\n",
            "{'name': 'Gabriela', 'age': 26, 'education': 'Physics'}\n",
            "{'name': 'Iria', 'age': 27, 'education': 'Physics'}\n",
            "{'name': 'Cristina', 'age': 27, 'education': 'Physics'}\n",
            "\n",
            "== Query: list all companies\n",
            "{'company_name': 'Indra', 'industry': 'Engineering'}\n",
            "{'company_name': 'CIEMAT', 'industry': 'Scientific Research'}\n",
            "{'company_name': 'CBM', 'industry': 'Scientific Research'}\n",
            "\n",
            "== Query: adjacency (who knows whom)\n",
            "{'person': 'Cristina', 'knows': ['Gabriela', 'Iria'], 'works_at': 'CBM'}\n",
            "{'person': 'Gabriela', 'knows': ['Cristina', 'Iria'], 'works_at': 'CIEMAT'}\n",
            "{'person': 'Guillermo', 'knows': ['Paula', 'Iria'], 'works_at': 'Indra'}\n",
            "{'person': 'Iria', 'knows': ['Cristina', 'Paula', 'Gabriela', 'Guillermo'], 'works_at': 'Indra'}\n",
            "{'person': 'Paula', 'knows': ['Guillermo', 'Iria'], 'works_at': 'Indra'}\n",
            "\n",
            "== End Cleanup.\n",
            "skipped\n",
            "\n",
            "== Done.\n"
          ]
        }
      ],
      "source": [
        "print(f\"== Connected to database: {NEO4J_DB}\")\n",
        "\n",
        "print(\"\\n== Clearing database (DETACH DELETE all nodes)\")\n",
        "wipe_at_init = True  # set True to delete everything at the start\n",
        "wipe_at_end = False  # set True to delete everything at the end\n",
        "\n",
        "print(\"\\n== Creating constraints (if not exist)\")\n",
        "for c in queries[\"constraints\"]:\n",
        "    kg.query(c)\n",
        "print(\"ok\")\n",
        "\n",
        "print(\"\\n== Init Clean up.\")\n",
        "if wipe_at_init:\n",
        "    kg.query(queries[\"delete_all\"])\n",
        "    print(\"ok\")\n",
        "else:\n",
        "    print(\"skipped\")\n",
        "    \n",
        "print(\"\\n== Creating sample data\")\n",
        "kg.query(queries[\"create_seed\"])\n",
        "print(\"ok\")\n",
        "\n",
        "print(\"\\n== Query: list all people\")\n",
        "records = kg.query(queries[\"match_person\"]) # <class 'list'>\n",
        "for r in records:\n",
        "    print(r)\n",
        "    \n",
        "print(\"\\n== Query: list all companies\")\n",
        "records = kg.query(queries[\"match_company\"]) # <class 'list'>\n",
        "for r in records:\n",
        "    print(r)\n",
        "\n",
        "print(\"\\n== Query: adjacency (who knows whom)\")\n",
        "records = kg.query(queries[\"match_adjacency\"]) # <class 'list'>\n",
        "for r in records:\n",
        "    print(r)\n",
        "\n",
        "print(\"\\n== End Cleanup.\")\n",
        "if wipe_at_end:\n",
        "    kg.query(queries[\"delete_all\"])\n",
        "    print(\"ok\")\n",
        "else:\n",
        "    print(\"skipped\")\n",
        "    \n",
        "print(\"\\n== Done.\")\n"
      ]
    }
  ],
  "metadata": {
    "kernelspec": {
      "display_name": ".venv",
      "language": "python",
      "name": "python3"
    },
    "language_info": {
      "codemirror_mode": {
        "name": "ipython",
        "version": 3
      },
      "file_extension": ".py",
      "mimetype": "text/x-python",
      "name": "python",
      "nbconvert_exporter": "python",
      "pygments_lexer": "ipython3",
      "version": "3.12.3"
    }
  },
  "nbformat": 4,
  "nbformat_minor": 5
}
