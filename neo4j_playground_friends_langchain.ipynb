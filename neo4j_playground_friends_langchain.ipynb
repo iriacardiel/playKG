{
  "cells": [
    {
      "cell_type": "markdown",
      "metadata": {},
      "source": [
        "# Neo4j Hello World (Notebook)\n",
        "\n",
        "This notebook connects to a local Neo4j **Community** instance (via Docker), creates a tiny graph, and queries it into a pandas DataFrame.\n",
        "\n",
        "**Assumes** \n",
        " \n",
        " \n",
        "- Neo4j service is running at `bolt://localhost:${URI_PORT}` with the user and password set in the `.env` file. **Run `docker compose up -d`**.\n",
        "- Ollama service is up on `http://localhost:11434` (ollama default). **Run `ollama serve` and pull the model `ollama pull nomic-embed-text`** (if not pulled yet).\n",
        "\n"
      ]
    },
    {
      "cell_type": "code",
      "execution_count": 1,
      "id": "b89b0006",
      "metadata": {},
      "outputs": [],
      "source": [
        "import os\n",
        "from dotenv import load_dotenv  \n",
        "import yaml\n",
        "from pathlib import Path\n",
        "from pprint import pprint\n",
        "from termcolor import cprint\n",
        "import ollama\n",
        "import requests\n",
        "from typing import Literal\n",
        "\n",
        "from langchain_neo4j import Neo4jGraph\n"
      ]
    },
    {
      "cell_type": "code",
      "execution_count": 2,
      "metadata": {},
      "outputs": [
        {
          "name": "stdout",
          "output_type": "stream",
          "text": [
            "\u001b[32mConnecting to Neo4j at bolt://localhost:7687 with user neo4j and password test1234\u001b[0m\n"
          ]
        }
      ],
      "source": [
        "load_dotenv()  # Load local environment variables\n",
        "\n",
        "URI = \"bolt://localhost:\" + os.environ.get(\"URI_PORT\")\n",
        "NEO4J_USER = os.environ.get(\"NEO4J_USER\")\n",
        "NEO4J_PWD = os.environ.get(\"NEO4J_PASSWORD\")\n",
        "NEO4J_DB = os.getenv(\"NEO4J_DATABASE\", \"neo4j\")    # 👈 choose DB here\n",
        "EMBED_MODEL = \"nomic-embed-text:latest\"\n",
        "\n",
        "cprint(f\"Connecting to Neo4j at {URI} with user {NEO4J_USER} and password {NEO4J_PWD}\", \"green\")"
      ]
    },
    {
      "cell_type": "code",
      "execution_count": 3,
      "id": "2f7b41f3",
      "metadata": {},
      "outputs": [
        {
          "data": {
            "text/plain": [
              "dict_keys(['constraints', 'create_seed', 'show_people', 'show_companies', 'match_adjacency', 'show_info', 'add_info', 'create_vector_indexes', 'delete_all'])"
            ]
          },
          "execution_count": 3,
          "metadata": {},
          "output_type": "execute_result"
        }
      ],
      "source": [
        "# load cypher queries from yaml file\n",
        "queries = yaml.safe_load(Path(\"queries.yaml\").read_text())\n",
        "queries.keys()  # list available queries"
      ]
    },
    {
      "cell_type": "markdown",
      "id": "11515b4d",
      "metadata": {},
      "source": [
        "## Using Langchain wrapper for Neo4j"
      ]
    },
    {
      "cell_type": "code",
      "execution_count": 4,
      "id": "efb7bb2b",
      "metadata": {},
      "outputs": [],
      "source": [
        "kg = Neo4jGraph(url=URI, username=NEO4J_USER, password=NEO4J_PWD, database=NEO4J_DB)"
      ]
    },
    {
      "cell_type": "markdown",
      "id": "cd1f619f",
      "metadata": {},
      "source": [
        "### 1. Create sample data"
      ]
    },
    {
      "cell_type": "markdown",
      "id": "bdc69e5a",
      "metadata": {},
      "source": [
        "<p align=\"center\">\n",
        "  <img src=\"media/KG_step1_populate_graph.svg\" width=\"550\">\n",
        "</p>\n",
        "\n",
        "\n",
        "- **Entities**: Person and Company nodes with unique constraints (unique name and uuid)\n",
        "- **Relationships**: KNOWS (person-to-person) and WORKS_AT (person-to-company)\n",
        "- **Properties**: Basic attributes (name, age, education, industry)\n"
      ]
    },
    {
      "cell_type": "code",
      "execution_count": 5,
      "id": "93f7c53e",
      "metadata": {},
      "outputs": [
        {
          "name": "stdout",
          "output_type": "stream",
          "text": [
            "\u001b[32m\n",
            "== Connected to Neo4j database: neo4j\u001b[0m\n",
            "\u001b[32m\n",
            "== Creating constraints (if not exist)\u001b[0m\n",
            " ok\n",
            "\u001b[32m\n",
            "== Init Cleanup.\u001b[0m\n",
            " ok\n",
            "\u001b[32m\n",
            "== Creating sample data\u001b[0m\n",
            " ok\n",
            "\u001b[32m\n",
            "== Query: list all people\u001b[0m\n",
            "{'name': 'Paula', 'age': 25, 'p.gender': 'female', 'education': 'Computer Engineering'}\n",
            "{'name': 'Guillermo', 'age': 26, 'p.gender': 'male', 'education': 'Industrial Engineering'}\n",
            "{'name': 'Gabriela', 'age': 26, 'p.gender': 'female', 'education': 'Physics'}\n",
            "{'name': 'Iria', 'age': 27, 'p.gender': 'female', 'education': 'Physics'}\n",
            "{'name': 'Cristina', 'age': 27, 'p.gender': 'female', 'education': 'Physics'}\n",
            "\u001b[32m\n",
            "== Query: list all companies\u001b[0m\n",
            "{'name': 'Indra', 'industry': 'Engineering'}\n",
            "{'name': 'CIEMAT', 'industry': 'Scientific Research'}\n",
            "{'name': 'CBM', 'industry': 'Scientific Research'}\n",
            "\u001b[32m\n",
            "== Query: adjacency (who knows whom)\u001b[0m\n",
            "{'person': 'Cristina', 'knows': ['Gabriela', 'Iria'], 'works_at': 'CBM'}\n",
            "{'person': 'Gabriela', 'knows': ['Cristina', 'Iria'], 'works_at': 'CIEMAT'}\n",
            "{'person': 'Guillermo', 'knows': ['Paula', 'Iria'], 'works_at': 'Indra'}\n",
            "{'person': 'Iria', 'knows': ['Cristina', 'Paula', 'Gabriela', 'Guillermo'], 'works_at': 'Indra'}\n",
            "{'person': 'Paula', 'knows': ['Guillermo', 'Iria'], 'works_at': 'Indra'}\n"
          ]
        }
      ],
      "source": [
        "# KG\n",
        "\n",
        "wipe_at_init = True # delete everything at the start \n",
        "\n",
        "# Interact directly with KG, no need for driver context.\n",
        "\n",
        "cprint(f\"\\n== Connected to Neo4j database: {NEO4J_DB}\", \"green\")\n",
        "\n",
        "cprint(\"\\n== Creating constraints (if not exist)\", \"green\")\n",
        "for q in queries[\"constraints\"]:\n",
        "    kg.query(q)\n",
        "print(\" ok\")\n",
        "\n",
        "cprint(\"\\n== Init Cleanup.\", \"green\")\n",
        "if wipe_at_init:\n",
        "    for q in queries[\"delete_all\"]:\n",
        "        kg.query(q)\n",
        "    print(\" ok\")\n",
        "else:\n",
        "    print(\" skipped\")\n",
        "    \n",
        "cprint(\"\\n== Creating sample data\", \"green\")\n",
        "kg.query(queries[\"create_seed\"])\n",
        "print(\" ok\")\n",
        "\n",
        "cprint(\"\\n== Query: list all people\", \"green\")\n",
        "records = kg.query(queries[\"show_people\"]) # <class 'list'>\n",
        "for r in records:\n",
        "    print(r)\n",
        "    \n",
        "cprint(\"\\n== Query: list all companies\", \"green\")\n",
        "records = kg.query(queries[\"show_companies\"]) # <class 'list'>\n",
        "for r in records:\n",
        "    print(r)\n",
        "\n",
        "cprint(\"\\n== Query: adjacency (who knows whom)\", \"green\")\n",
        "records = kg.query(queries[\"match_adjacency\"]) # <class 'list'>\n",
        "for r in records:\n",
        "    print(r)"
      ]
    },
    {
      "cell_type": "markdown",
      "id": "5a5a13ae",
      "metadata": {},
      "source": [
        "### 2. Add rich text info"
      ]
    },
    {
      "cell_type": "markdown",
      "id": "593c82a7",
      "metadata": {},
      "source": [
        "<p align=\"center\">\n",
        "  <img src=\"media/KG_step2_generate_rich_descriptions.svg\" width=\"750\">\n",
        "</p>\n"
      ]
    },
    {
      "cell_type": "code",
      "execution_count": 6,
      "id": "875ecf64",
      "metadata": {},
      "outputs": [
        {
          "name": "stdout",
          "output_type": "stream",
          "text": [
            "\u001b[32m\n",
            "== Query: Adding descriptions, appearance and summaries\u001b[0m\n",
            " ok\n",
            "{'labels(n)': ['Person'], 'n.name': 'Iria', 'n.info': 'Iria is a female of 27 years old and studied Physics.Iria has blue eyes and long brunette and wavy hair. She likes to paint her nails in red or purple colours. She usually wears long earrings.'}\n",
            "{'labels(n)': ['Person'], 'n.name': 'Guillermo', 'n.info': 'Guillermo is a male of 26 years old and studied Industrial Engineering.Guillermo has brown eyes and short hair. He has a very fancy shirt that he takes to all important events. He shaved his head this summer.'}\n",
            "{'labels(n)': ['Person'], 'n.name': 'Gabriela', 'n.info': \"Gabriela is a female of 26 years old and studied Physics.Gabriela has long curly hair with babylights. She's petite and likes to wear hippie-style clothes.\"}\n",
            "{'labels(n)': ['Person'], 'n.name': 'Paula', 'n.info': 'Paula is a female of 25 years old and studied Computer Engineering.Paula short hair in a wolfcut style. She wears long and wide pants and sneakers to the laboratory.'}\n",
            "{'labels(n)': ['Person'], 'n.name': 'Cristina', 'n.info': 'Cristina is a female of 27 years old and studied Physics.Cristina has brown eyes and very long straight brunette hair. She usually wears scarfs to style her hair and long skirts. '}\n",
            "{'labels(n)': ['Company'], 'n.name': 'Indra', 'n.info': 'Indra operates in the Engineering industry.Indra Group is a holding company that promotes technological progress. It includes Indra, one of the main global defense, air traffic and space companies; and Minsait, leading digital transformation and information technologies in Spain and Latin America. '}\n",
            "{'labels(n)': ['Company'], 'n.name': 'CIEMAT', 'n.info': 'CIEMAT operates in the Scientific Research industry.The CIEMAT (Centro de Investigaciones Energéticas, Medioambientales y Tecnológicas) is a public research organization attached to the Ministry of Science, Innovation and Universities through the General Secretariat for Research. It occupies an intermediate position in the chain that runs from the creation of basic knowledge to industrial application, so its activities always seek to serve as a bridge between R&D&I and objectives of social interest.'}\n",
            "{'labels(n)': ['Company'], 'n.name': 'CBM', 'n.info': 'CBM operates in the Scientific Research industry.The CBM is a joint research centre, hosting researchers belonging to the Spanish Higher Research Council (CSIC) and the Universidad Autónoma de Madrid (UAM). Founded in 1975, the CBM is one of the largest Spanish multidisciplinary research centres in biomedicine, with expertise in molecular biology, biochemistry, genetics and genomics in several research areas: immunology, virology and microbiology, neuroscience, and cell and developmental biology.'}\n"
          ]
        }
      ],
      "source": [
        "cprint(\"\\n== Query: Adding descriptions, appearance and summaries\", \"green\")\n",
        "for q in queries[\"add_info\"]:\n",
        "    kg.query(q)\n",
        "print(\" ok\")\n",
        "\n",
        "records = kg.query(queries[\"show_info\"])\n",
        "for r in records:\n",
        "    print(r)\n"
      ]
    },
    {
      "cell_type": "markdown",
      "id": "9427991a",
      "metadata": {},
      "source": [
        "### 3. Create property embeddings (first step into RAG) "
      ]
    },
    {
      "cell_type": "markdown",
      "id": "3f4cc4d8",
      "metadata": {},
      "source": [
        "<p align=\"center\">\n",
        "  <img src=\"media/KG_step3_generate_property_embeddings.svg\" width=\"750\">\n",
        "</p>\n",
        "\n",
        "**RAG** implementation requires selecting a **property to embed and use for similarity searches**. \n",
        "\n",
        "Description properties containing **rich text** work well for this purpose, as they provide richer semantic information. In our example, we'll use *info* and *info*.\n",
        "\n",
        "In order to do so, we create two vector indexes in Neo4j:\n",
        "\n",
        "- **Vector index *person_node_info_idx***: based on property ***info_emb*** for nodes of type \"Person\"\n",
        "-  **Vector index *company_node_info_idx***: based on property ***info_emb*** for nodes of type \"Company\"\n",
        "\n",
        "After that, we create the embeddings (this happens for both Person nodes and Company nodes):\n",
        "\n",
        "- **Property *info*** ---`nomic-embed-text`---> **Property *info_emb***\n"
      ]
    },
    {
      "cell_type": "code",
      "execution_count": 7,
      "id": "956d8609",
      "metadata": {},
      "outputs": [
        {
          "name": "stdout",
          "output_type": "stream",
          "text": [
            "\u001b[32m\n",
            "Found 4 vector index entries.\u001b[0m\n",
            "\u001b[32m--------------------\u001b[0m\n",
            "{'entityType': 'NODE',\n",
            " 'id': 15,\n",
            " 'indexProvider': 'vector-2.0',\n",
            " 'labelsOrTypes': ['Company'],\n",
            " 'lastRead': None,\n",
            " 'name': 'company_node_info_idx',\n",
            " 'owningConstraint': None,\n",
            " 'populationPercent': 100.0,\n",
            " 'properties': ['info_emb'],\n",
            " 'readCount': None,\n",
            " 'state': 'ONLINE',\n",
            " 'type': 'VECTOR'}\n",
            "\u001b[32m--------------------\u001b[0m\n",
            "{'entityType': 'NODE',\n",
            " 'id': 5,\n",
            " 'indexProvider': 'vector-2.0',\n",
            " 'labelsOrTypes': ['Chunk'],\n",
            " 'lastRead': neo4j.time.DateTime(2025, 9, 22, 14, 20, 17, 666000000, tzinfo=<UTC>),\n",
            " 'name': 'form_10k_chunks',\n",
            " 'owningConstraint': None,\n",
            " 'populationPercent': 100.0,\n",
            " 'properties': ['text_emb'],\n",
            " 'readCount': 4,\n",
            " 'state': 'ONLINE',\n",
            " 'type': 'VECTOR'}\n",
            "\u001b[32m--------------------\u001b[0m\n",
            "{'entityType': 'RELATIONSHIP',\n",
            " 'id': 16,\n",
            " 'indexProvider': 'vector-2.0',\n",
            " 'labelsOrTypes': ['KNOWS'],\n",
            " 'lastRead': None,\n",
            " 'name': 'knows_relationship_info_idx',\n",
            " 'owningConstraint': None,\n",
            " 'populationPercent': 100.0,\n",
            " 'properties': ['info_emb'],\n",
            " 'readCount': None,\n",
            " 'state': 'ONLINE',\n",
            " 'type': 'VECTOR'}\n",
            "\u001b[32m--------------------\u001b[0m\n",
            "{'entityType': 'NODE',\n",
            " 'id': 14,\n",
            " 'indexProvider': 'vector-2.0',\n",
            " 'labelsOrTypes': ['Person'],\n",
            " 'lastRead': None,\n",
            " 'name': 'person_node_info_idx',\n",
            " 'owningConstraint': None,\n",
            " 'populationPercent': 100.0,\n",
            " 'properties': ['info_emb'],\n",
            " 'readCount': None,\n",
            " 'state': 'ONLINE',\n",
            " 'type': 'VECTOR'}\n"
          ]
        }
      ],
      "source": [
        "def embed_property(element: Literal[\"node\", \"relationship\"],type_name:str, property_name:str):\n",
        "        \n",
        "    if element == \"node\":\n",
        "        cprint(f\"\\nGenerating embeddings for (n:{type_name}) on n.{property_name}\", \"green\")\n",
        "        records = list(kg.query(f\"\"\"\n",
        "            MATCH (n:{type_name})\n",
        "            WHERE n.{property_name} IS NOT NULL AND n.{property_name} <> ''\n",
        "            AND n.{property_name}_emb IS NULL\n",
        "            RETURN n.uuid AS uuid, n.{property_name} AS txt\n",
        "            \"\"\"))\n",
        "        for r in records:\n",
        "            vec = ollama.embed(model=\"nomic-embed-text\", input=r[\"txt\"])[\"embeddings\"][0]\n",
        "            kg.query(\n",
        "                f\"\"\"\n",
        "                MATCH (n:{type_name} {{uuid: $uuid}})\n",
        "                SET n.{property_name}_emb = $vec\n",
        "                \"\"\",\n",
        "                params={\"uuid\": r[\"uuid\"], \"vec\": vec},\n",
        "            )\n",
        "            print(f\"  text: {r['txt']}\\n  vec: {vec[:3]}\")\n",
        "            \n",
        "    elif element == \"relationship\":\n",
        "        \n",
        "        cprint(f\"\\nGenerating embeddings for [r:{type_name}] on r.{property_name}\", \"green\")\n",
        "        records = list(kg.query(f\"\"\"\n",
        "            MATCH ()-[r:{type_name}]-()\n",
        "            WHERE r.{property_name} IS NOT NULL AND r.{property_name} <> ''\n",
        "            AND r.{property_name}_emb IS NULL\n",
        "            RETURN r.uuid AS uuid, r.{property_name} AS txt\n",
        "            \"\"\"))\n",
        "        for r in records:\n",
        "            vec = ollama.embed(model=\"nomic-embed-text\", input=r[\"txt\"])[\"embeddings\"][0]\n",
        "            kg.query(\n",
        "                f\"\"\"\n",
        "                MATCH ()-[r:{type_name} {{uuid: $uuid}}]-()\n",
        "                SET r.{property_name}_emb = $vec\n",
        "                \"\"\",\n",
        "                params={\"uuid\": r[\"uuid\"], \"vec\": vec},\n",
        "            )\n",
        "            print(f\"  text: {r['txt']}\\n  vec: {vec[:3]}\")\n",
        "            \n",
        "# Create vector indexes (once)\n",
        "\n",
        "for q in queries[\"create_vector_indexes\"]:\n",
        "    kg.query(q)\n",
        "\n",
        "# Show created vector indexes\n",
        "results = kg.query(\"SHOW VECTOR INDEXES\")\n",
        "idx = list(results)\n",
        "cprint(f\"\\nFound {len(idx)} vector index entries.\", \"green\")\n",
        "for r in idx:\n",
        "    cprint(\"-\"*20,\"green\")\n",
        "    pprint(r)"
      ]
    },
    {
      "cell_type": "code",
      "execution_count": 8,
      "id": "7ba85683",
      "metadata": {},
      "outputs": [
        {
          "name": "stdout",
          "output_type": "stream",
          "text": [
            "\u001b[32m\n",
            "Generating embeddings for (n:Person) on n.info\u001b[0m\n",
            "  text: Iria is a female of 27 years old and studied Physics.Iria has blue eyes and long brunette and wavy hair. She likes to paint her nails in red or purple colours. She usually wears long earrings.\n",
            "  vec: [0.031421136, 0.032104157, -0.15766615]\n",
            "  text: Guillermo is a male of 26 years old and studied Industrial Engineering.Guillermo has brown eyes and short hair. He has a very fancy shirt that he takes to all important events. He shaved his head this summer.\n",
            "  vec: [-0.023262369, 0.05322417, -0.15030223]\n",
            "  text: Gabriela is a female of 26 years old and studied Physics.Gabriela has long curly hair with babylights. She's petite and likes to wear hippie-style clothes.\n",
            "  vec: [0.028215451, 0.02993047, -0.18000375]\n",
            "  text: Paula is a female of 25 years old and studied Computer Engineering.Paula short hair in a wolfcut style. She wears long and wide pants and sneakers to the laboratory.\n",
            "  vec: [0.011417965, 0.040603343, -0.16852917]\n",
            "  text: Cristina is a female of 27 years old and studied Physics.Cristina has brown eyes and very long straight brunette hair. She usually wears scarfs to style her hair and long skirts. \n",
            "  vec: [0.032263294, -0.0020466913, -0.157968]\n",
            "\u001b[32m\n",
            "Generating embeddings for (n:Company) on n.info\u001b[0m\n",
            "  text: Indra operates in the Engineering industry.Indra Group is a holding company that promotes technological progress. It includes Indra, one of the main global defense, air traffic and space companies; and Minsait, leading digital transformation and information technologies in Spain and Latin America. \n",
            "  vec: [-0.014035365, 0.06831103, -0.19293985]\n",
            "  text: CIEMAT operates in the Scientific Research industry.The CIEMAT (Centro de Investigaciones Energéticas, Medioambientales y Tecnológicas) is a public research organization attached to the Ministry of Science, Innovation and Universities through the General Secretariat for Research. It occupies an intermediate position in the chain that runs from the creation of basic knowledge to industrial application, so its activities always seek to serve as a bridge between R&D&I and objectives of social interest.\n",
            "  vec: [-0.0008125481, 0.0686467, -0.21528068]\n",
            "  text: CBM operates in the Scientific Research industry.The CBM is a joint research centre, hosting researchers belonging to the Spanish Higher Research Council (CSIC) and the Universidad Autónoma de Madrid (UAM). Founded in 1975, the CBM is one of the largest Spanish multidisciplinary research centres in biomedicine, with expertise in molecular biology, biochemistry, genetics and genomics in several research areas: immunology, virology and microbiology, neuroscience, and cell and developmental biology.\n",
            "  vec: [0.01750885, 0.043141548, -0.16125496]\n",
            "\u001b[32m\n",
            "Generating embeddings for [r:KNOWS] on r.info\u001b[0m\n",
            "  text: Guillermo and Iria work together in the same project with AI Agents.\n",
            "  vec: [-0.012557401, 0.041814107, -0.1631818]\n",
            "  text: Guillermo and Iria work together in the same project with AI Agents.\n",
            "  vec: [-0.012557401, 0.041814107, -0.1631818]\n",
            "  text: Iria and Gabriela now each other because they went to University together and liked going camping.\n",
            "  vec: [0.0056753354, -0.007195168, -0.20471278]\n",
            "  text: Iria and Gabriela now each other because they went to University together and liked going camping.\n",
            "  vec: [0.0056753354, -0.007195168, -0.20471278]\n",
            "  text: Paula is helping Iria with the project she is working on.\n",
            "  vec: [0.0012532333, 0.049452547, -0.18221916]\n",
            "  text: Paula is helping Iria with the project she is working on.\n",
            "  vec: [0.0012532333, 0.049452547, -0.18221916]\n",
            "  text: Cristina was Iria best friend in University, now they see each other every weekend.\n",
            "  vec: [0.014252732, -0.014345809, -0.17574927]\n",
            "  text: Cristina was Iria best friend in University, now they see each other every weekend.\n",
            "  vec: [0.014252732, -0.014345809, -0.17574927]\n",
            "  text: Paula is helping Guillermo with the project he is working on.\n",
            "  vec: [0.0062245666, 0.053603172, -0.15986727]\n",
            "  text: Paula is helping Guillermo with the project he is working on.\n",
            "  vec: [0.0062245666, 0.053603172, -0.15986727]\n",
            "  text: Cristina and Gabriela go to Chinese academy together, although they met at uni.\n",
            "  vec: [0.0021362242, 0.008798516, -0.17464985]\n",
            "  text: Cristina and Gabriela go to Chinese academy together, although they met at uni.\n",
            "  vec: [0.0021362242, 0.008798516, -0.17464985]\n"
          ]
        }
      ],
      "source": [
        "# (p:PERSON): create embeddings only for nodes missing them\n",
        "embed_property(\"node\", \"Person\", \"info\")\n",
        "\n",
        "# (c:COMPANY): create embeddings only for nodes missing them\n",
        "embed_property(\"node\", \"Company\", \"info\")\n",
        "\n",
        "# [r:KNOWS]: create embeddings only for nodes missing them\n",
        "embed_property(\"relationship\", \"KNOWS\", \"info\")"
      ]
    },
    {
      "cell_type": "markdown",
      "id": "7e3529c0",
      "metadata": {},
      "source": [
        "### 4. Search "
      ]
    },
    {
      "cell_type": "markdown",
      "id": "27ed88b9",
      "metadata": {},
      "source": [
        "Whenever we query this graph, we can use two different but complementary search techniques:\n",
        "\n",
        "1. **KG Retreival**: through **Neo4J Cypher Query Language (CQL)** we can query precise entities and relations. The input query must be translated into CQL to get the desired results.\n",
        "\n",
        "2. **Vector Retrieval**: **embedding the input query**, we can make a vector search against the vector indexes defined above.\n",
        "\n",
        "The results will be a combination of both searches.\n",
        "\n",
        "<p align=\"center\">\n",
        "  <img src=\"media/KGRAG_schema.svg\">\n",
        "</p>\n"
      ]
    },
    {
      "cell_type": "code",
      "execution_count": 9,
      "id": "3fd3e48f",
      "metadata": {},
      "outputs": [],
      "source": [
        "# From query/question to cypher query language (cql) TODO\n",
        "def create_question_cql(question:str):\n",
        "    cql_query = \"\"\n",
        "    #cql_query = \"MATCH (person)-[:KNOWS]-(:Person {name:'Cristina'})\" \n",
        "    return cql_query"
      ]
    },
    {
      "cell_type": "code",
      "execution_count": 10,
      "id": "f0e2fc62",
      "metadata": {},
      "outputs": [],
      "source": [
        "# From user query/question to question embedding\n",
        "def create_question_embedding(question:str):\n",
        "    cprint(f\"\\nGenerating embeddings for question '{question}'\", \"green\")\n",
        "    vec = ollama.embed(model=\"nomic-embed-text\", input=question)[\"embeddings\"][0] \n",
        "    print(f\"  text: {question}\\n  vec: {vec[:10]}\\n\")\n",
        "    return vec"
      ]
    },
    {
      "cell_type": "code",
      "execution_count": 11,
      "id": "a3974d68",
      "metadata": {},
      "outputs": [
        {
          "name": "stdout",
          "output_type": "stream",
          "text": [
            "\u001b[32m\n",
            "Generating embeddings for question 'Who shaved its head this summer?'\u001b[0m\n"
          ]
        },
        {
          "name": "stdout",
          "output_type": "stream",
          "text": [
            "  text: Who shaved its head this summer?\n",
            "  vec: [0.022573026, -0.015476549, -0.17212495, 0.0018683294, -0.038688686, 0.044817436, 0.01842398, 0.013745231, 0.050375726, 0.008345599]\n",
            "\n",
            "{'score': 0.8374781608581543, 'text': None}\n",
            "{'score': 0.7817301750183105, 'text': None}\n",
            "{'score': 0.7744836807250977, 'text': None}\n",
            "{'score': 0.7634782791137695, 'text': None}\n",
            "{'score': 0.7479281425476074, 'text': None}\n",
            "\u001b[32m\n",
            "Generating embeddings for question 'Which company investigates Cancer?'\u001b[0m\n",
            "  text: Which company investigates Cancer?\n",
            "  vec: [0.03314031, 0.030437501, -0.19477448, 0.01064411, 0.07048723, 0.00393343, -0.058452524, 0.020778723, 0.0035936916, 0.003476617]\n",
            "\n",
            "{'score': 0.7897243499755859, 'text': None}\n",
            "{'score': 0.7851877212524414, 'text': None}\n",
            "{'score': 0.7674016952514648, 'text': None}\n",
            "\u001b[32m\n",
            "Generating embeddings for question 'Who is helping Iria at work?'\u001b[0m\n",
            "  text: Who is helping Iria at work?\n",
            "  vec: [-0.039116025, 0.022910928, -0.2054694, -0.0038209686, 0.038757026, -0.014443832, 0.0032659601, -0.04491874, -0.034365475, 0.03448219]\n",
            "\n",
            "{'score': 0.9196758270263672, 'relationship': {'uuid': '07d8a15e-7ba8-4a10-a2fc-e4834c29e844', 'info_emb': '', 'knows_from': 'work', 'info': 'Paula is helping Iria with the project she is working on.'}}\n",
            "{'score': 0.8709979057312012, 'relationship': {'uuid': '2e0a6d1a-4051-4036-bbbf-e52d9fb1e540', 'info_emb': '', 'knows_from': 'work', 'info': 'Guillermo and Iria work together in the same project with AI Agents.'}}\n",
            "{'score': 0.861875057220459, 'relationship': {'uuid': '205b97be-b094-4e3e-900b-a9c3a40e16e7', 'info_emb': '', 'knows_from': 'work', 'info': 'Paula is helping Guillermo with the project he is working on.'}}\n",
            "{'score': 0.8298172950744629, 'relationship': {'uuid': '3fbd976b-aa2f-4a9b-a607-bbeb9dee3bd4', 'info_emb': '', 'knows_from': 'university', 'info': 'Cristina was Iria best friend in University, now they see each other every weekend.'}}\n",
            "{'score': 0.8063793182373047, 'relationship': {'uuid': '3f8744a6-029a-42b1-83e4-fe20138c26ec', 'info_emb': '', 'knows_from': 'university', 'info': 'Iria and Gabriela now each other because they went to University together and liked going camping.'}}\n",
            "Driver closed.\n"
          ]
        }
      ],
      "source": [
        "# Query Nodes\n",
        "\n",
        "def neo4j_node_vector_search(question, index_name):\n",
        "    \"\"\"Search for similar nodes using the Neo4j vector index\"\"\"\n",
        "  \n",
        "      \n",
        "    top_k = 5\n",
        "    vector_search_query = f\"\"\"\n",
        "    CALL db.index.vector.queryNodes($index_name, $top_k, $question_embedding) \n",
        "    YIELD node, score\n",
        "    {create_question_cql(question)}\n",
        "    RETURN score, node.text AS text\n",
        "    \"\"\"\n",
        "\n",
        "    result = kg.query(\n",
        "    vector_search_query, \n",
        "    {\"index_name\": index_name, \n",
        "        \"top_k\": top_k,\n",
        "        \"question_embedding\": create_question_embedding(question),}\n",
        "    )\n",
        "\n",
        "    return result\n",
        "\n",
        "\n",
        "\n",
        "question = \"Who shaved its head this summer?\"\n",
        "index_name = \"person_node_info_idx\"\n",
        "result = neo4j_node_vector_search(question, index_name)\n",
        "for r in result:\n",
        "        print(dict(r))\n",
        "\n",
        "question = \"Which company investigates Cancer?\"\n",
        "index_name = \"company_node_info_idx\"\n",
        "result = neo4j_node_vector_search(question, index_name)\n",
        "for r in result:\n",
        "        print(dict(r))\n",
        "\n",
        "\n",
        "        \n",
        "        \n",
        "# Query Relationships\n",
        "\n",
        "def neo4j_relationship_vector_search(question, index_name):\n",
        "    \"\"\"Search for similar nodes using the Neo4j vector index\"\"\" \n",
        "    top_k = 5\n",
        "    vector_search_query = f\"\"\"\n",
        "    CALL db.index.vector.queryRelationships($index_name, $top_k, $question_embedding) \n",
        "    YIELD relationship, score\n",
        "    {create_question_cql(question)}\n",
        "    RETURN score, relationship {{.* , info_emb: \"\"}}\n",
        "    ORDER BY score DESC\n",
        "    \"\"\"\n",
        "\n",
        "    result = kg.query(\n",
        "    vector_search_query, \n",
        "    {\"index_name\": index_name, \n",
        "        \"top_k\": top_k,\n",
        "        \"question_embedding\": create_question_embedding(question),}\n",
        "    )\n",
        "\n",
        "    return result\n",
        "\n",
        "question = \"Who is helping Iria at work?\"\n",
        "index_name = \"knows_relationship_info_idx\"\n",
        "result  = neo4j_relationship_vector_search(question, index_name)\n",
        "for r in result:\n",
        "    print(dict(r))\n",
        "        \n",
        "print(\"Driver closed.\")"
      ]
    }
  ],
  "metadata": {
    "kernelspec": {
      "display_name": ".venv",
      "language": "python",
      "name": "python3"
    },
    "language_info": {
      "codemirror_mode": {
        "name": "ipython",
        "version": 3
      },
      "file_extension": ".py",
      "mimetype": "text/x-python",
      "name": "python",
      "nbconvert_exporter": "python",
      "pygments_lexer": "ipython3",
      "version": "3.12.3"
    }
  },
  "nbformat": 4,
  "nbformat_minor": 5
}
