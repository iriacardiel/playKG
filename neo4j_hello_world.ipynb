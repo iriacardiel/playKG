{
  "cells": [
    {
      "cell_type": "markdown",
      "metadata": {},
      "source": [
        "# Neo4j Hello World (Notebook)\n",
        "\n",
        "This notebook connects to a local Neo4j **Community** instance (via Docker), creates a tiny graph, and queries it into a pandas DataFrame.\n",
        "\n",
        "**Assumes** Neo4j is running at `bolt://localhost:7687` with `neo4j/test1234`.\n"
      ]
    },
    {
      "cell_type": "code",
      "execution_count": 1,
      "metadata": {},
      "outputs": [
        {
          "data": {
            "text/plain": [
              "<neo4j._sync.driver.BoltDriver at 0x7bae9c70fa10>"
            ]
          },
          "execution_count": 1,
          "metadata": {},
          "output_type": "execute_result"
        }
      ],
      "source": [
        "# Optional: install dependencies if running outside the repo venv\n",
        "# !pip install neo4j pandas\n",
        "from neo4j import GraphDatabase\n",
        "import pandas as pd\n",
        "\n",
        "URI = \"bolt://localhost:7687\"\n",
        "AUTH = (\"neo4j\", \"test1234\")\n",
        "driver = GraphDatabase.driver(URI, auth=AUTH)\n",
        "driver\n"
      ]
    },
    {
      "cell_type": "code",
      "execution_count": 2,
      "metadata": {},
      "outputs": [
        {
          "name": "stdout",
          "output_type": "stream",
          "text": [
            "Graph created/merged ✔️\n"
          ]
        }
      ],
      "source": [
        "def create_graph(tx):\n",
        "    tx.run(\n",
        "        \"\"\"\n",
        "        MERGE (a:Person {name: \"Andreas\"})\n",
        "        MERGE (b:Person {name: \"Andrew\"})\n",
        "        MERGE (c:Course {title: \"RAG with Knowledge Graphs\"})\n",
        "        MERGE (a)-[:KNOWS {since: 2024}]->(b)\n",
        "        MERGE (a)-[:TEACHES {year: 2024}]->(c)\n",
        "        MERGE (b)-[:INTRODUCED {section: \"Intro\"}]->(c)\n",
        "        \"\"\"\n",
        "    )\n",
        "\n",
        "with driver.session() as session:\n",
        "    session.execute_write(create_graph)\n",
        "print(\"Graph created/merged ✔️\")\n"
      ]
    },
    {
      "cell_type": "code",
      "execution_count": 3,
      "metadata": {},
      "outputs": [
        {
          "data": {
            "text/html": [
              "<div>\n",
              "<style scoped>\n",
              "    .dataframe tbody tr th:only-of-type {\n",
              "        vertical-align: middle;\n",
              "    }\n",
              "\n",
              "    .dataframe tbody tr th {\n",
              "        vertical-align: top;\n",
              "    }\n",
              "\n",
              "    .dataframe thead th {\n",
              "        text-align: right;\n",
              "    }\n",
              "</style>\n",
              "<table border=\"1\" class=\"dataframe\">\n",
              "  <thead>\n",
              "    <tr style=\"text-align: right;\">\n",
              "      <th></th>\n",
              "      <th>person</th>\n",
              "      <th>since</th>\n",
              "      <th>knows</th>\n",
              "    </tr>\n",
              "  </thead>\n",
              "  <tbody>\n",
              "    <tr>\n",
              "      <th>0</th>\n",
              "      <td>Andreas</td>\n",
              "      <td>2024</td>\n",
              "      <td>Andrew</td>\n",
              "    </tr>\n",
              "    <tr>\n",
              "      <th>1</th>\n",
              "      <td>Adalberto</td>\n",
              "      <td>2025</td>\n",
              "      <td>Iria</td>\n",
              "    </tr>\n",
              "    <tr>\n",
              "      <th>2</th>\n",
              "      <td>Iria</td>\n",
              "      <td>2025</td>\n",
              "      <td>Guillermo</td>\n",
              "    </tr>\n",
              "    <tr>\n",
              "      <th>3</th>\n",
              "      <td>Guillermo</td>\n",
              "      <td>2025</td>\n",
              "      <td>Adalberto</td>\n",
              "    </tr>\n",
              "  </tbody>\n",
              "</table>\n",
              "</div>"
            ],
            "text/plain": [
              "      person  since      knows\n",
              "0    Andreas   2024     Andrew\n",
              "1  Adalberto   2025       Iria\n",
              "2       Iria   2025  Guillermo\n",
              "3  Guillermo   2025  Adalberto"
            ]
          },
          "execution_count": 3,
          "metadata": {},
          "output_type": "execute_result"
        }
      ],
      "source": [
        "# Simple MATCH returning rows\n",
        "query = (\n",
        "    \"MATCH (a:Person)-[r:KNOWS]->(b:Person) \"\n",
        "    \"RETURN a.name AS person, r.since AS since, b.name AS knows\"\n",
        ")\n",
        "with driver.session() as session:\n",
        "    records = session.run(query)\n",
        "    rows = [r.data() for r in records]\n",
        "pd.DataFrame(rows)\n"
      ]
    },
    {
      "cell_type": "code",
      "execution_count": 4,
      "metadata": {},
      "outputs": [
        {
          "data": {
            "text/html": [
              "<div>\n",
              "<style scoped>\n",
              "    .dataframe tbody tr th:only-of-type {\n",
              "        vertical-align: middle;\n",
              "    }\n",
              "\n",
              "    .dataframe tbody tr th {\n",
              "        vertical-align: top;\n",
              "    }\n",
              "\n",
              "    .dataframe thead th {\n",
              "        text-align: right;\n",
              "    }\n",
              "</style>\n",
              "<table border=\"1\" class=\"dataframe\">\n",
              "  <thead>\n",
              "    <tr style=\"text-align: right;\">\n",
              "      <th></th>\n",
              "      <th>teacher</th>\n",
              "      <th>course</th>\n",
              "    </tr>\n",
              "  </thead>\n",
              "  <tbody>\n",
              "    <tr>\n",
              "      <th>0</th>\n",
              "      <td>Andreas</td>\n",
              "      <td>RAG with Knowledge Graphs</td>\n",
              "    </tr>\n",
              "  </tbody>\n",
              "</table>\n",
              "</div>"
            ],
            "text/plain": [
              "   teacher                     course\n",
              "0  Andreas  RAG with Knowledge Graphs"
            ]
          },
          "execution_count": 4,
          "metadata": {},
          "output_type": "execute_result"
        }
      ],
      "source": [
        "# Parameterized query example\n",
        "person_name = \"Andreas\"\n",
        "param_query = (\n",
        "    \"MATCH (p:Person {name: $name})-[:TEACHES]->(c:Course) \"\n",
        "    \"RETURN p.name AS teacher, c.title AS course\"\n",
        ")\n",
        "with driver.session() as session:\n",
        "    rows = [r.data() for r in session.run(param_query, name=person_name)]\n",
        "pd.DataFrame(rows)\n"
      ]
    },
    {
      "cell_type": "code",
      "execution_count": 6,
      "metadata": {},
      "outputs": [
        {
          "name": "stdout",
          "output_type": "stream",
          "text": [
            "Database cleared.\n"
          ]
        }
      ],
      "source": [
        "# Optional cleanup: wipe all data in the DB (use with care!)\n",
        "wipe = True  # set True to delete everything\n",
        "if wipe:\n",
        "    with driver.session() as session:\n",
        "        session.run(\"MATCH (n) DETACH DELETE n\")\n",
        "    print(\"Database cleared.\")\n",
        "else:\n",
        "    print(\"Cleanup skipped.\")\n"
      ]
    },
    {
      "cell_type": "code",
      "execution_count": 7,
      "metadata": {},
      "outputs": [
        {
          "name": "stdout",
          "output_type": "stream",
          "text": [
            "Driver closed.\n"
          ]
        }
      ],
      "source": [
        "driver.close()\n",
        "print(\"Driver closed.\")\n"
      ]
    }
  ],
  "metadata": {
    "kernelspec": {
      "display_name": ".venv",
      "language": "python",
      "name": "python3"
    },
    "language_info": {
      "codemirror_mode": {
        "name": "ipython",
        "version": 3
      },
      "file_extension": ".py",
      "mimetype": "text/x-python",
      "name": "python",
      "nbconvert_exporter": "python",
      "pygments_lexer": "ipython3",
      "version": "3.12.3"
    }
  },
  "nbformat": 4,
  "nbformat_minor": 5
}
