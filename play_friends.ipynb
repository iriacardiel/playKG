{
  "cells": [
    {
      "cell_type": "markdown",
      "metadata": {},
      "source": [
        "# Neo4j Hello World (Notebook) - Friends Use Case\n",
        "\n",
        "This notebook connects to a local Neo4j **Community** instance (via Docker), creates a tiny graph, and queries it.\n",
        "\n",
        "**Assumes** \n",
        " \n",
        " \n",
        "- Neo4j service is running at `bolt://localhost:${URI_PORT}` with the user and password set in the `.env` file. **Run `docker compose up -d`**.\n",
        "- Ollama service is up on `http://localhost:11434` (ollama default). **Run `ollama serve` and pull the model `ollama pull nomic-embed-text`** (if not pulled yet).\n",
        "\n"
      ]
    },
    {
      "cell_type": "code",
      "execution_count": 23,
      "id": "b89b0006",
      "metadata": {},
      "outputs": [],
      "source": [
        "# Dependencies\n",
        "\n",
        "import os\n",
        "from dotenv import load_dotenv  \n",
        "import yaml\n",
        "from pathlib import Path\n",
        "from pprint import pprint\n",
        "from termcolor import cprint\n",
        "\n",
        "from helpers import helper_folium, helper_leaflet\n",
        "\n",
        "# === Local services\n",
        "from neo4j_service import Neo4jService\n"
      ]
    },
    {
      "cell_type": "code",
      "execution_count": 24,
      "id": "568b0f14",
      "metadata": {},
      "outputs": [
        {
          "data": {
            "text/plain": [
              "True"
            ]
          },
          "execution_count": 24,
          "metadata": {},
          "output_type": "execute_result"
        }
      ],
      "source": [
        "# Environment variables\n",
        "\n",
        "load_dotenv()  # Load local environment variables"
      ]
    },
    {
      "cell_type": "code",
      "execution_count": 25,
      "id": "2f7b41f3",
      "metadata": {},
      "outputs": [
        {
          "data": {
            "text/plain": [
              "dict_keys(['constraints', 'create_seed', 'show_people', 'show_companies', 'match_adjacency', 'show_text', 'show_locations', 'show_distances', 'add_text', 'add_locations', 'create_vector_indexes', 'delete_all', 'create_person', 'create_company', 'create_person_company_relation', 'create_person_person_relation'])"
            ]
          },
          "execution_count": 25,
          "metadata": {},
          "output_type": "execute_result"
        }
      ],
      "source": [
        "# Load cypher queries\n",
        "\n",
        "queries = yaml.safe_load(Path(\"data/friends/queries_friends.yaml\").read_text())\n",
        "queries.keys()  # list available queries"
      ]
    },
    {
      "cell_type": "code",
      "execution_count": 26,
      "id": "efb7bb2b",
      "metadata": {},
      "outputs": [],
      "source": [
        "# Neo4j Langchain wrapper instance\n",
        "kg = Neo4jService.get_graph()"
      ]
    },
    {
      "cell_type": "markdown",
      "id": "cd1f619f",
      "metadata": {},
      "source": [
        "### 1. Create data"
      ]
    },
    {
      "cell_type": "markdown",
      "id": "bdc69e5a",
      "metadata": {},
      "source": [
        "<p align=\"center\">\n",
        "  <img src=\"media/KG_step1_populate_graph.svg\" width=\"550\">\n",
        "</p>\n",
        "\n",
        "\n",
        "- **Entities**: Person and Company nodes with unique constraints (unique name and uuid)\n",
        "- **Relationships**: KNOWS (person-to-person) and WORKS_AT (person-to-company)\n",
        "- **Properties**: Basic attributes (name, age, education, industry)\n"
      ]
    },
    {
      "cell_type": "code",
      "execution_count": 27,
      "id": "93f7c53e",
      "metadata": {},
      "outputs": [
        {
          "name": "stderr",
          "output_type": "stream",
          "text": [
            "2025-09-30 14:13:00,405 - neo4j.notifications - INFO - Received notification from DBMS server: {severity: INFORMATION} {code: Neo.ClientNotification.Schema.IndexOrConstraintAlreadyExists} {category: SCHEMA} {title: `CREATE CONSTRAINT person_unique IF NOT EXISTS FOR (e:Person) REQUIRE (e.uuid) IS UNIQUE` has no effect.} {description: `CONSTRAINT person_unique FOR (e:Person) REQUIRE (e.uuid) IS UNIQUE` already exists.} {position: None} for query: 'CREATE CONSTRAINT person_unique IF NOT EXISTS\\nFOR (p:Person) REQUIRE p.uuid IS UNIQUE\\n'\n",
            "2025-09-30 14:13:00,409 - neo4j.notifications - INFO - Received notification from DBMS server: {severity: INFORMATION} {code: Neo.ClientNotification.Schema.IndexOrConstraintAlreadyExists} {category: SCHEMA} {title: `CREATE CONSTRAINT company_unique IF NOT EXISTS FOR (e:Company) REQUIRE (e.uuid) IS UNIQUE` has no effect.} {description: `CONSTRAINT company_unique FOR (e:Company) REQUIRE (e.uuid) IS UNIQUE` already exists.} {position: None} for query: 'CREATE CONSTRAINT company_unique IF NOT EXISTS\\nFOR (c:Company) REQUIRE c.uuid IS UNIQUE\\n'\n",
            "2025-09-30 14:13:00,427 - neo4j.notifications - INFO - Received notification from DBMS server: {severity: INFORMATION} {code: Neo.ClientNotification.Schema.IndexOrConstraintDoesNotExist} {category: SCHEMA} {title: `DROP INDEX person_node_idx IF EXISTS` has no effect.} {description: `person_node_idx` does not exist.} {position: None} for query: 'DROP INDEX person_node_idx IF EXISTS\\n'\n",
            "2025-09-30 14:13:00,432 - neo4j.notifications - INFO - Received notification from DBMS server: {severity: INFORMATION} {code: Neo.ClientNotification.Schema.IndexOrConstraintDoesNotExist} {category: SCHEMA} {title: `DROP INDEX company_node_idx IF EXISTS` has no effect.} {description: `company_node_idx` does not exist.} {position: None} for query: 'DROP INDEX company_node_idx IF EXISTS\\n'\n",
            "2025-09-30 14:13:00,434 - neo4j.notifications - INFO - Received notification from DBMS server: {severity: INFORMATION} {code: Neo.ClientNotification.Schema.IndexOrConstraintDoesNotExist} {category: SCHEMA} {title: `DROP INDEX know_relationship_idx IF EXISTS` has no effect.} {description: `know_relationship_idx` does not exist.} {position: None} for query: 'DROP INDEX know_relationship_idx IF EXISTS\\n'\n"
          ]
        },
        {
          "name": "stdout",
          "output_type": "stream",
          "text": [
            "\u001b[32m\n",
            "Creating constraints (if not exist)\u001b[0m\n",
            "\u001b[32m\n",
            "Init Cleanup.\u001b[0m\n",
            "\u001b[32m\n",
            "Create data\u001b[0m\n"
          ]
        },
        {
          "data": {
            "text/plain": [
              "[]"
            ]
          },
          "execution_count": 27,
          "metadata": {},
          "output_type": "execute_result"
        }
      ],
      "source": [
        "# Populate graph\n",
        "\n",
        "cprint(\"\\nCreating constraints (if not exist)\", \"green\")\n",
        "for q in queries[\"constraints\"]:\n",
        "    kg.query(q)\n",
        "\n",
        "cprint(\"\\nInit Cleanup.\", \"green\")\n",
        "for q in queries[\"delete_all\"]:\n",
        "    kg.query(q)\n",
        "    \n",
        "cprint(\"\\nCreate data\", \"green\")\n",
        "kg.query(queries[\"create_seed\"])\n",
        "\n"
      ]
    },
    {
      "cell_type": "code",
      "execution_count": 28,
      "id": "cbc466bf",
      "metadata": {},
      "outputs": [
        {
          "name": "stdout",
          "output_type": "stream",
          "text": [
            "\u001b[32m\n",
            "Query: list all people\u001b[0m\n",
            "{'name': 'Paula', 'age': 25, 'p.gender': 'female', 'education': 'Computer Engineering'}\n",
            "{'name': 'Guillermo', 'age': 26, 'p.gender': 'male', 'education': 'Industrial Engineering'}\n",
            "{'name': 'Claudia', 'age': 26, 'p.gender': 'female', 'education': 'Physics'}\n",
            "{'name': 'Iciar', 'age': 26, 'p.gender': 'female', 'education': 'Physics'}\n",
            "{'name': 'Iria', 'age': 27, 'p.gender': 'female', 'education': 'Physics'}\n",
            "{'name': 'Marina', 'age': 27, 'p.gender': 'female', 'education': 'Physics'}\n",
            "{'name': 'Manuel', 'age': 27, 'p.gender': 'male', 'education': 'Arts'}\n",
            "{'name': 'Xavier', 'age': 27, 'p.gender': 'male', 'education': 'Physics'}\n",
            "{'name': 'Juan', 'age': 27, 'p.gender': 'male', 'education': 'Physics'}\n",
            "{'name': 'Aarón', 'age': 27, 'p.gender': 'male', 'education': 'Physics'}\n",
            "{'name': 'Esteban', 'age': 29, 'p.gender': 'male', 'education': 'Physics'}\n",
            "\u001b[32m\n",
            "Query: list all companies\u001b[0m\n",
            "{'name': 'Waytronics', 'industry': 'Consulting Services'}\n",
            "{'name': 'Accenture', 'industry': 'Consulting Services'}\n",
            "{'name': 'Lumon', 'industry': 'Engineering'}\n",
            "{'name': 'CMT', 'industry': 'Scientific Research'}\n",
            "{'name': 'CEBIME', 'industry': 'Scientific Research'}\n",
            "{'name': 'Instagram', 'industry': 'Social Media'}\n",
            "\u001b[32m\n",
            "Query: adjacency (who knows whom)\u001b[0m\n",
            "{'person': 'Aarón', 'knows': ['Iciar', 'Esteban', 'Juan', 'Xavier', 'Marina', 'Claudia', 'Iria'], 'works_at': 'Lumon'}\n",
            "{'person': 'Claudia', 'knows': ['Aarón', 'Iciar', 'Esteban', 'Juan', 'Xavier', 'Marina', 'Iria'], 'works_at': 'CMT'}\n",
            "{'person': 'Esteban', 'knows': ['Aarón', 'Iciar', 'Juan', 'Xavier', 'Marina', 'Claudia', 'Iria'], 'works_at': 'Accenture'}\n",
            "{'person': 'Guillermo', 'knows': ['Paula', 'Iria'], 'works_at': 'Lumon'}\n",
            "{'person': 'Iciar', 'knows': ['Aarón', 'Esteban', 'Juan', 'Xavier', 'Marina', 'Claudia', 'Iria'], 'works_at': 'Accenture'}\n",
            "{'person': 'Iria', 'knows': ['Aarón', 'Iciar', 'Esteban', 'Juan', 'Xavier', 'Marina', 'Paula', 'Claudia', 'Guillermo'], 'works_at': 'Lumon'}\n",
            "{'person': 'Juan', 'knows': ['Aarón', 'Iciar', 'Esteban', 'Xavier', 'Marina', 'Claudia', 'Iria'], 'works_at': 'Waytronics'}\n",
            "{'person': 'Manuel', 'knows': ['Marina'], 'works_at': 'Instagram'}\n",
            "{'person': 'Marina', 'knows': ['Aarón', 'Iciar', 'Esteban', 'Juan', 'Xavier', 'Manuel', 'Claudia', 'Iria'], 'works_at': 'CEBIME'}\n",
            "{'person': 'Paula', 'knows': ['Guillermo', 'Iria'], 'works_at': 'Lumon'}\n",
            "{'person': 'Xavier', 'knows': ['Aarón', 'Iciar', 'Esteban', 'Juan', 'Marina', 'Claudia', 'Iria'], 'works_at': 'Lumon'}\n"
          ]
        }
      ],
      "source": [
        "# Example cypher queries\n",
        "\n",
        "cprint(\"\\nQuery: list all people\", \"green\")\n",
        "records = kg.query(queries[\"show_people\"]) # <class 'list'>\n",
        "for r in records:\n",
        "    print(r)\n",
        "    \n",
        "cprint(\"\\nQuery: list all companies\", \"green\")\n",
        "records = kg.query(queries[\"show_companies\"]) # <class 'list'>\n",
        "for r in records:\n",
        "    print(r)\n",
        "\n",
        "cprint(\"\\nQuery: adjacency (who knows whom)\", \"green\")\n",
        "records = kg.query(queries[\"match_adjacency\"]) # <class 'list'>\n",
        "for r in records:\n",
        "    print(r)"
      ]
    },
    {
      "cell_type": "markdown",
      "id": "5a5a13ae",
      "metadata": {},
      "source": [
        "### 2.A Add rich text info"
      ]
    },
    {
      "cell_type": "markdown",
      "id": "593c82a7",
      "metadata": {},
      "source": [
        "<p align=\"center\">\n",
        "  <img src=\"media/KG_step2_generate_rich_descriptions.svg\" width=\"750\">\n",
        "</p>\n"
      ]
    },
    {
      "cell_type": "code",
      "execution_count": 29,
      "id": "875ecf64",
      "metadata": {},
      "outputs": [
        {
          "name": "stdout",
          "output_type": "stream",
          "text": [
            "\u001b[32m\n",
            "Query: Adding descriptions, appearance and summaries\u001b[0m\n"
          ]
        }
      ],
      "source": [
        "# Add rich text descriptions \n",
        "\n",
        "cprint(\"\\nQuery: Adding descriptions, appearance and summaries\", \"green\")\n",
        "for q in queries[\"add_text\"]:\n",
        "    kg.query(q)\n"
      ]
    },
    {
      "cell_type": "code",
      "execution_count": 30,
      "id": "f0431cd8",
      "metadata": {},
      "outputs": [
        {
          "name": "stdout",
          "output_type": "stream",
          "text": [
            "{'labels(n)': ['Person'], 'n.name': 'Iria', 'n.text': 'Iria is a female of 27 years old and studied Physics.Iria has blue eyes and long brunette and wavy hair. She likes to paint her nails in red or purple colours. She usually wears long earrings.'}\n",
            "{'labels(n)': ['Person'], 'n.name': 'Guillermo', 'n.text': 'Guillermo is a male of 26 years old and studied Industrial Engineering.Guillermo has brown eyes and short hair. He has a very fancy shirt that he takes to all important events. He shaved his head this summer.'}\n",
            "{'labels(n)': ['Person'], 'n.name': 'Claudia', 'n.text': \"Claudia is a female of 26 years old and studied Physics.Claudia has long curly hair with babylights. She's petite and likes to wear hippie-style clothes.\"}\n",
            "{'labels(n)': ['Person'], 'n.name': 'Paula', 'n.text': 'Paula is a female of 25 years old and studied Computer Engineering.Paula short hair in a wolfcut style. She wears long and wide pants and sneakers to the laboratory.'}\n",
            "{'labels(n)': ['Person'], 'n.name': 'Marina', 'n.text': 'Marina is a female of 27 years old and studied Physics.Marina has brown eyes and very long straight brunette hair. She usually wears scarfs to style her hair and long skirts. '}\n",
            "{'labels(n)': ['Person'], 'n.name': 'Manuel', 'n.text': 'Manuel is a male of 27 years old and studied Arts.Manuel has short curly hair. He loves horror movies. '}\n",
            "{'labels(n)': ['Person'], 'n.name': 'Xavier', 'n.text': 'Xavier is a male of 27 years old and studied Physics.'}\n",
            "{'labels(n)': ['Person'], 'n.name': 'Juan', 'n.text': 'Juan is a male of 27 years old and studied Physics.'}\n",
            "{'labels(n)': ['Person'], 'n.name': 'Esteban', 'n.text': 'Esteban is a male of 29 years old and studied Physics.'}\n",
            "{'labels(n)': ['Person'], 'n.name': 'Iciar', 'n.text': 'Iciar is a female of 26 years old and studied Physics.'}\n",
            "{'labels(n)': ['Person'], 'n.name': 'Aarón', 'n.text': 'Aarón is a male of 27 years old and studied Physics.'}\n",
            "{'labels(n)': ['Company'], 'n.name': 'Lumon', 'n.text': 'Lumon operates in the Engineering industry.Lumon Group is a holding company that promotes technological progress. It includes Lumon, one of the main global defense, air traffic and space companies; and Minsait, leading digital transformation and information technologies in Spain and Latin America. '}\n",
            "{'labels(n)': ['Company'], 'n.name': 'CMT', 'n.text': 'CMT operates in the Scientific Research industry.The CMT (Centro de Investigaciones Energéticas, Medioambientales y Tecnológicas) is a public research organization attached to the Ministry of Science, Innovation and Universities through the General Secretariat for Research. It occupies an intermediate position in the chain that runs from the creation of basic knowledge to industrial application, so its activities always seek to serve as a bridge between R&D&I and objectives of social interest.'}\n",
            "{'labels(n)': ['Company'], 'n.name': 'CEBIME', 'n.text': 'CEBIME operates in the Scientific Research industry.The CEBIME is a joint research centre, hosting researchers belonging to the Spanish Higher Research Council (CSIC) and the Universidad Autónoma de Madrid (UAM). Founded in 1975, the CEBIME is one of the largest Spanish multidisciplinary research centres in biomedicine, with expertise in molecular biology, biochemistry, genetics and genomics in several research areas: immunology, virology and microbiology, neuroscience, and cell and developmental biology.'}\n",
            "{'labels(n)': ['Company'], 'n.name': 'Instagram', 'n.text': 'Instagram operates in the Social Media industry.Instagram is a free mobile app for photo and short-form video sharing, owned by Meta, where users can upload media, edit it with filters, add hashtags, and tag locations. The platform allows users to share content with followers, engage with posts through likes and comments, and discover new content through personalized recommendations.'}\n",
            "{'labels(n)': ['Company'], 'n.name': 'Waytronics', 'n.text': 'Waytronics operates in the Consulting Services industry.'}\n",
            "{'labels(n)': ['Company'], 'n.name': 'Accenture', 'n.text': 'Accenture operates in the Consulting Services industry.'}\n"
          ]
        }
      ],
      "source": [
        "# Show descriptions\n",
        "records = kg.query(queries[\"show_text\"])\n",
        "for r in records:\n",
        "    print(r)"
      ]
    },
    {
      "cell_type": "markdown",
      "id": "af7f8bfc",
      "metadata": {},
      "source": [
        "### 2.B Add location info"
      ]
    },
    {
      "cell_type": "code",
      "execution_count": 31,
      "id": "80af921e",
      "metadata": {},
      "outputs": [
        {
          "name": "stdout",
          "output_type": "stream",
          "text": [
            "\u001b[32m\n",
            "Query: Adding location property\u001b[0m\n"
          ]
        }
      ],
      "source": [
        "# Add location property \n",
        "\n",
        "cprint(\"\\nQuery: Adding location property\", \"green\")\n",
        "for q in queries[\"add_locations\"]:\n",
        "    kg.query(q)"
      ]
    },
    {
      "cell_type": "code",
      "execution_count": 33,
      "id": "58197a73",
      "metadata": {},
      "outputs": [
        {
          "name": "stdout",
          "output_type": "stream",
          "text": [
            "{'name': 'Iria', 'labels': ['Person'], 'lat': 40.4336, 'lon': -3.711223}\n",
            "{'name': 'Guillermo', 'labels': ['Person'], 'lat': 40.455022, 'lon': -3.692355}\n",
            "{'name': 'Claudia', 'labels': ['Person'], 'lat': 40.4328, 'lon': -3.711451}\n",
            "{'name': 'Paula', 'labels': ['Person'], 'lat': 40.49017, 'lon': -3.654654}\n",
            "{'name': 'Marina', 'labels': ['Person'], 'lat': 40.4332, 'lon': -3.597745}\n",
            "{'name': 'Manuel', 'labels': ['Person'], 'lat': 40.4336, 'lon': -3.617745}\n",
            "{'name': 'Xavier', 'labels': ['Person'], 'lat': 40.434, 'lon': -3.711223}\n",
            "{'name': 'Juan', 'labels': ['Person'], 'lat': 40.4344, 'lon': -3.711223}\n",
            "{'name': 'Esteban', 'labels': ['Person'], 'lat': 40.4348, 'lon': -3.711223}\n",
            "{'name': 'Iciar', 'labels': ['Person'], 'lat': 40.4352, 'lon': -3.711223}\n",
            "{'name': 'Aarón', 'labels': ['Person'], 'lat': 40.4356, 'lon': -3.711223}\n",
            "{'name': 'Lumon', 'labels': ['Company'], 'lat': 40.533873, 'lon': -3.630539}\n",
            "{'name': 'CMT', 'labels': ['Company'], 'lat': 40.453938, 'lon': -3.728925}\n",
            "{'name': 'CEBIME', 'labels': ['Company'], 'lat': 40.549613, 'lon': -3.690136}\n",
            "{'name': 'Instagram', 'labels': ['Company'], 'lat': 40.652321, 'lon': -3.701249}\n",
            "{'name': 'Waytronics', 'labels': ['Company'], 'lat': 40.352321, 'lon': -3.801249}\n",
            "{'name': 'Accenture', 'labels': ['Company'], 'lat': 40.651321, 'lon': -3.801249}\n",
            "Map saved to data/friends/friends_map_leaflet.html\n",
            "Map saved to data/friends/friends_map_leaflet.html\n"
          ]
        }
      ],
      "source": [
        "# Show locations and plot maps\n",
        "records = kg.query(queries[\"show_locations\"])\n",
        "# Replace with your query result rows\n",
        "# records = [\n",
        "#     {\"name\":\"Iria\",\"lat\":40.437596,\"lon\":-3.711223,\"labels\":[\"Person\"]},\n",
        "#     {\"name\":\"Guillermo\",\"lat\":40.455022,\"lon\":-3.692355,\"labels\":[\"Person\"]},\n",
        "#     {\"name\":\"Claudia\",\"lat\":40.475721,\"lon\":-3.711451,\"labels\":[\"Person\"]},\n",
        "#     {\"name\":\"Paula\",\"lat\":40.490170,\"lon\":-3.654654,\"labels\":[\"Person\"]},\n",
        "#     {\"name\":\"Marina\"lat\":40.367462,\"lon\":-3.597745,\"labels\":[\"Person\"]},\n",
        "#     {\"name\":\"Lumon\",\"lat\":40.396648,\"lon\":-3.624635,\"labels\":[\"Company\"]},\n",
        "#     {\"name\":\"CMT\",\"lat\":40.453938,\"lon\":-3.728925,\"labels\":[\"Company\"]},\n",
        "#     {\"name\":\"CEBIME\",\"lat\":40.549613,\"lon\":-3.690136,\"labels\":[\"Company\"]},\n",
        "# ]\n",
        "for r in records:\n",
        "    print(r)\n",
        "\n",
        "\n",
        "directory=F\"{\"data/friends/friends_map_\"}\"\n",
        "filename=directory+\"leaflet.html\"\n",
        "# Follium map\n",
        "helper_folium.create_map_from_rows(filename, records, center_coordinates=[40.4168, -3.7038])\n",
        "\n",
        "# Leaflet map\n",
        "helper_leaflet.create_map_from_rows(filename, records, center_coordinates=[40.4168, -3.7038])"
      ]
    },
    {
      "cell_type": "markdown",
      "id": "9427991a",
      "metadata": {},
      "source": [
        "### 3. Create property embeddings (first step into RAG) "
      ]
    },
    {
      "cell_type": "markdown",
      "id": "3f4cc4d8",
      "metadata": {},
      "source": [
        "<p align=\"center\">\n",
        "  <img src=\"media/KG_step3_generate_property_embeddings.svg\" width=\"750\">\n",
        "</p>\n",
        "\n",
        "**RAG** implementation requires selecting a **property to embed and use for similarity searches**. \n",
        "\n",
        "Description properties containing **rich text** work well for this purpose, as they provide richer semantic information. In our example, we'll use *text*.\n",
        "\n",
        "In order to do so, we create two vector indexes in Neo4j:\n",
        "\n",
        "- **Vector index *person_node_info_idx***: based on property ***info_emb*** for nodes of type \"Person\"\n",
        "-  **Vector index *company_node_info_idx***: based on property ***info_emb*** for nodes of type \"Company\"\n",
        "\n",
        "After that, we create the embeddings (this happens for both Person nodes and Company nodes):\n",
        "\n",
        "- **Property *text*** ---`nomic-embed-text`---> **Property *embedding***\n"
      ]
    },
    {
      "cell_type": "code",
      "execution_count": 34,
      "id": "956d8609",
      "metadata": {},
      "outputs": [
        {
          "name": "stdout",
          "output_type": "stream",
          "text": [
            "\u001b[32m\n",
            "Found 4 vector index entries.\u001b[0m\n",
            "\u001b[32m--------------------\u001b[0m\n",
            "{'entityType': 'NODE',\n",
            " 'id': 5,\n",
            " 'indexProvider': 'vector-2.0',\n",
            " 'labelsOrTypes': ['Chunk'],\n",
            " 'lastRead': neo4j.time.DateTime(2025, 9, 30, 12, 9, 22, 479000000, tzinfo=<UTC>),\n",
            " 'name': 'chunks_node_idx',\n",
            " 'owningConstraint': None,\n",
            " 'populationPercent': 100.0,\n",
            " 'properties': ['embedding'],\n",
            " 'readCount': 1,\n",
            " 'state': 'ONLINE',\n",
            " 'type': 'VECTOR'}\n",
            "\u001b[32m--------------------\u001b[0m\n",
            "{'entityType': 'NODE',\n",
            " 'id': 8,\n",
            " 'indexProvider': 'vector-2.0',\n",
            " 'labelsOrTypes': ['Company'],\n",
            " 'lastRead': None,\n",
            " 'name': 'company_node_idx',\n",
            " 'owningConstraint': None,\n",
            " 'populationPercent': 100.0,\n",
            " 'properties': ['embedding'],\n",
            " 'readCount': None,\n",
            " 'state': 'ONLINE',\n",
            " 'type': 'VECTOR'}\n",
            "\u001b[32m--------------------\u001b[0m\n",
            "{'entityType': 'RELATIONSHIP',\n",
            " 'id': 9,\n",
            " 'indexProvider': 'vector-2.0',\n",
            " 'labelsOrTypes': ['KNOWS'],\n",
            " 'lastRead': None,\n",
            " 'name': 'know_relationship_idx',\n",
            " 'owningConstraint': None,\n",
            " 'populationPercent': 100.0,\n",
            " 'properties': ['embedding'],\n",
            " 'readCount': None,\n",
            " 'state': 'ONLINE',\n",
            " 'type': 'VECTOR'}\n",
            "\u001b[32m--------------------\u001b[0m\n",
            "{'entityType': 'NODE',\n",
            " 'id': 7,\n",
            " 'indexProvider': 'vector-2.0',\n",
            " 'labelsOrTypes': ['Person'],\n",
            " 'lastRead': None,\n",
            " 'name': 'person_node_idx',\n",
            " 'owningConstraint': None,\n",
            " 'populationPercent': 100.0,\n",
            " 'properties': ['embedding'],\n",
            " 'readCount': None,\n",
            " 'state': 'ONLINE',\n",
            " 'type': 'VECTOR'}\n"
          ]
        }
      ],
      "source": [
        "# Create vector indexes\n",
        "\n",
        "for q in queries[\"create_vector_indexes\"]:\n",
        "    kg.query(q)\n",
        "\n",
        "# Show created vector indexes\n",
        "results = kg.query(\"SHOW VECTOR INDEXES\")\n",
        "idx = list(results)\n",
        "cprint(f\"\\nFound {len(idx)} vector index entries.\", \"green\")\n",
        "for r in idx:\n",
        "    cprint(\"-\"*20,\"green\")\n",
        "    pprint(r)"
      ]
    },
    {
      "cell_type": "code",
      "execution_count": 35,
      "id": "7ba85683",
      "metadata": {},
      "outputs": [
        {
          "name": "stderr",
          "output_type": "stream",
          "text": [
            "2025-09-30 14:13:11,011 - httpx - INFO - HTTP Request: POST http://127.0.0.1:11434/api/embed \"HTTP/1.1 200 OK\"\n",
            "2025-09-30 14:13:11,056 - httpx - INFO - HTTP Request: POST http://127.0.0.1:11434/api/embed \"HTTP/1.1 200 OK\"\n"
          ]
        },
        {
          "name": "stdout",
          "output_type": "stream",
          "text": [
            "\u001b[32m\n",
            "Generating embeddings for (n:Person) on n.text\u001b[0m\n",
            " Updated 1 embeddings\n",
            " Updated 2 embeddings\n"
          ]
        },
        {
          "name": "stderr",
          "output_type": "stream",
          "text": [
            "2025-09-30 14:13:11,084 - httpx - INFO - HTTP Request: POST http://127.0.0.1:11434/api/embed \"HTTP/1.1 200 OK\"\n",
            "2025-09-30 14:13:11,113 - httpx - INFO - HTTP Request: POST http://127.0.0.1:11434/api/embed \"HTTP/1.1 200 OK\"\n",
            "2025-09-30 14:13:11,142 - httpx - INFO - HTTP Request: POST http://127.0.0.1:11434/api/embed \"HTTP/1.1 200 OK\"\n"
          ]
        },
        {
          "name": "stdout",
          "output_type": "stream",
          "text": [
            " Updated 3 embeddings\n",
            " Updated 4 embeddings\n",
            " Updated 5 embeddings\n"
          ]
        },
        {
          "name": "stderr",
          "output_type": "stream",
          "text": [
            "2025-09-30 14:13:11,184 - httpx - INFO - HTTP Request: POST http://127.0.0.1:11434/api/embed \"HTTP/1.1 200 OK\"\n",
            "2025-09-30 14:13:11,215 - httpx - INFO - HTTP Request: POST http://127.0.0.1:11434/api/embed \"HTTP/1.1 200 OK\"\n",
            "2025-09-30 14:13:11,246 - httpx - INFO - HTTP Request: POST http://127.0.0.1:11434/api/embed \"HTTP/1.1 200 OK\"\n",
            "2025-09-30 14:13:11,274 - httpx - INFO - HTTP Request: POST http://127.0.0.1:11434/api/embed \"HTTP/1.1 200 OK\"\n"
          ]
        },
        {
          "name": "stdout",
          "output_type": "stream",
          "text": [
            " Updated 6 embeddings\n",
            " Updated 7 embeddings\n",
            " Updated 8 embeddings\n",
            " Updated 9 embeddings\n"
          ]
        },
        {
          "name": "stderr",
          "output_type": "stream",
          "text": [
            "2025-09-30 14:13:11,302 - httpx - INFO - HTTP Request: POST http://127.0.0.1:11434/api/embed \"HTTP/1.1 200 OK\"\n",
            "2025-09-30 14:13:11,330 - httpx - INFO - HTTP Request: POST http://127.0.0.1:11434/api/embed \"HTTP/1.1 200 OK\"\n",
            "2025-09-30 14:13:11,383 - httpx - INFO - HTTP Request: POST http://127.0.0.1:11434/api/embed \"HTTP/1.1 200 OK\"\n"
          ]
        },
        {
          "name": "stdout",
          "output_type": "stream",
          "text": [
            " Updated 10 embeddings\n",
            " Updated 11 embeddings\n",
            "\u001b[32m\n",
            "Generating embeddings for (n:Company) on n.text\u001b[0m\n"
          ]
        },
        {
          "name": "stderr",
          "output_type": "stream",
          "text": [
            "2025-09-30 14:13:11,426 - httpx - INFO - HTTP Request: POST http://127.0.0.1:11434/api/embed \"HTTP/1.1 200 OK\"\n",
            "2025-09-30 14:13:11,453 - httpx - INFO - HTTP Request: POST http://127.0.0.1:11434/api/embed \"HTTP/1.1 200 OK\"\n",
            "2025-09-30 14:13:11,481 - httpx - INFO - HTTP Request: POST http://127.0.0.1:11434/api/embed \"HTTP/1.1 200 OK\"\n",
            "2025-09-30 14:13:11,510 - httpx - INFO - HTTP Request: POST http://127.0.0.1:11434/api/embed \"HTTP/1.1 200 OK\"\n"
          ]
        },
        {
          "name": "stdout",
          "output_type": "stream",
          "text": [
            " Updated 1 embeddings\n",
            " Updated 2 embeddings\n",
            " Updated 3 embeddings\n",
            " Updated 4 embeddings\n"
          ]
        },
        {
          "name": "stderr",
          "output_type": "stream",
          "text": [
            "2025-09-30 14:13:11,539 - httpx - INFO - HTTP Request: POST http://127.0.0.1:11434/api/embed \"HTTP/1.1 200 OK\"\n",
            "2025-09-30 14:13:11,600 - httpx - INFO - HTTP Request: POST http://127.0.0.1:11434/api/embed \"HTTP/1.1 200 OK\"\n"
          ]
        },
        {
          "name": "stdout",
          "output_type": "stream",
          "text": [
            " Updated 5 embeddings\n",
            " Updated 6 embeddings\n",
            "\u001b[32m\n",
            "Generating embeddings for [r:KNOWS] on r.text\u001b[0m\n"
          ]
        },
        {
          "name": "stderr",
          "output_type": "stream",
          "text": [
            "2025-09-30 14:13:11,650 - httpx - INFO - HTTP Request: POST http://127.0.0.1:11434/api/embed \"HTTP/1.1 200 OK\"\n",
            "2025-09-30 14:13:11,695 - httpx - INFO - HTTP Request: POST http://127.0.0.1:11434/api/embed \"HTTP/1.1 200 OK\"\n"
          ]
        },
        {
          "name": "stdout",
          "output_type": "stream",
          "text": [
            " Updated 1 embeddings\n",
            " Updated 2 embeddings\n",
            " Updated 3 embeddings\n"
          ]
        },
        {
          "name": "stderr",
          "output_type": "stream",
          "text": [
            "2025-09-30 14:13:11,744 - httpx - INFO - HTTP Request: POST http://127.0.0.1:11434/api/embed \"HTTP/1.1 200 OK\"\n",
            "2025-09-30 14:13:11,803 - httpx - INFO - HTTP Request: POST http://127.0.0.1:11434/api/embed \"HTTP/1.1 200 OK\"\n"
          ]
        },
        {
          "name": "stdout",
          "output_type": "stream",
          "text": [
            " Updated 4 embeddings\n",
            " Updated 5 embeddings\n"
          ]
        },
        {
          "name": "stderr",
          "output_type": "stream",
          "text": [
            "2025-09-30 14:13:11,856 - httpx - INFO - HTTP Request: POST http://127.0.0.1:11434/api/embed \"HTTP/1.1 200 OK\"\n",
            "2025-09-30 14:13:11,882 - httpx - INFO - HTTP Request: POST http://127.0.0.1:11434/api/embed \"HTTP/1.1 200 OK\"\n",
            "2025-09-30 14:13:11,914 - httpx - INFO - HTTP Request: POST http://127.0.0.1:11434/api/embed \"HTTP/1.1 200 OK\"\n",
            "2025-09-30 14:13:11,937 - httpx - INFO - HTTP Request: POST http://127.0.0.1:11434/api/embed \"HTTP/1.1 200 OK\"\n"
          ]
        },
        {
          "name": "stdout",
          "output_type": "stream",
          "text": [
            " Updated 6 embeddings\n",
            " Updated 7 embeddings\n",
            " Updated 8 embeddings\n",
            " Updated 9 embeddings\n"
          ]
        },
        {
          "name": "stderr",
          "output_type": "stream",
          "text": [
            "2025-09-30 14:13:11,967 - httpx - INFO - HTTP Request: POST http://127.0.0.1:11434/api/embed \"HTTP/1.1 200 OK\"\n",
            "2025-09-30 14:13:11,991 - httpx - INFO - HTTP Request: POST http://127.0.0.1:11434/api/embed \"HTTP/1.1 200 OK\"\n",
            "2025-09-30 14:13:12,060 - httpx - INFO - HTTP Request: POST http://127.0.0.1:11434/api/embed \"HTTP/1.1 200 OK\"\n"
          ]
        },
        {
          "name": "stdout",
          "output_type": "stream",
          "text": [
            " Updated 10 embeddings\n",
            " Updated 11 embeddings\n"
          ]
        },
        {
          "name": "stderr",
          "output_type": "stream",
          "text": [
            "2025-09-30 14:13:12,131 - httpx - INFO - HTTP Request: POST http://127.0.0.1:11434/api/embed \"HTTP/1.1 200 OK\"\n"
          ]
        },
        {
          "name": "stdout",
          "output_type": "stream",
          "text": [
            " Updated 12 embeddings\n",
            " Updated 13 embeddings\n"
          ]
        },
        {
          "name": "stderr",
          "output_type": "stream",
          "text": [
            "2025-09-30 14:13:12,184 - httpx - INFO - HTTP Request: POST http://127.0.0.1:11434/api/embed \"HTTP/1.1 200 OK\"\n",
            "2025-09-30 14:13:12,233 - httpx - INFO - HTTP Request: POST http://127.0.0.1:11434/api/embed \"HTTP/1.1 200 OK\"\n",
            "2025-09-30 14:13:12,262 - httpx - INFO - HTTP Request: POST http://127.0.0.1:11434/api/embed \"HTTP/1.1 200 OK\"\n"
          ]
        },
        {
          "name": "stdout",
          "output_type": "stream",
          "text": [
            " Updated 14 embeddings\n",
            " Updated 15 embeddings\n",
            " Updated 16 embeddings\n"
          ]
        },
        {
          "name": "stderr",
          "output_type": "stream",
          "text": [
            "2025-09-30 14:13:12,286 - httpx - INFO - HTTP Request: POST http://127.0.0.1:11434/api/embed \"HTTP/1.1 200 OK\"\n",
            "2025-09-30 14:13:12,314 - httpx - INFO - HTTP Request: POST http://127.0.0.1:11434/api/embed \"HTTP/1.1 200 OK\"\n",
            "2025-09-30 14:13:12,341 - httpx - INFO - HTTP Request: POST http://127.0.0.1:11434/api/embed \"HTTP/1.1 200 OK\"\n",
            "2025-09-30 14:13:12,370 - httpx - INFO - HTTP Request: POST http://127.0.0.1:11434/api/embed \"HTTP/1.1 200 OK\"\n"
          ]
        },
        {
          "name": "stdout",
          "output_type": "stream",
          "text": [
            " Updated 17 embeddings\n",
            " Updated 18 embeddings\n",
            " Updated 19 embeddings\n",
            " Updated 20 embeddings\n"
          ]
        },
        {
          "name": "stderr",
          "output_type": "stream",
          "text": [
            "2025-09-30 14:13:12,394 - httpx - INFO - HTTP Request: POST http://127.0.0.1:11434/api/embed \"HTTP/1.1 200 OK\"\n",
            "2025-09-30 14:13:12,443 - httpx - INFO - HTTP Request: POST http://127.0.0.1:11434/api/embed \"HTTP/1.1 200 OK\"\n",
            "2025-09-30 14:13:12,486 - httpx - INFO - HTTP Request: POST http://127.0.0.1:11434/api/embed \"HTTP/1.1 200 OK\"\n"
          ]
        },
        {
          "name": "stdout",
          "output_type": "stream",
          "text": [
            " Updated 21 embeddings\n",
            " Updated 22 embeddings\n"
          ]
        },
        {
          "name": "stderr",
          "output_type": "stream",
          "text": [
            "2025-09-30 14:13:12,516 - httpx - INFO - HTTP Request: POST http://127.0.0.1:11434/api/embed \"HTTP/1.1 200 OK\"\n",
            "2025-09-30 14:13:12,541 - httpx - INFO - HTTP Request: POST http://127.0.0.1:11434/api/embed \"HTTP/1.1 200 OK\"\n",
            "2025-09-30 14:13:12,570 - httpx - INFO - HTTP Request: POST http://127.0.0.1:11434/api/embed \"HTTP/1.1 200 OK\"\n",
            "2025-09-30 14:13:12,594 - httpx - INFO - HTTP Request: POST http://127.0.0.1:11434/api/embed \"HTTP/1.1 200 OK\"\n"
          ]
        },
        {
          "name": "stdout",
          "output_type": "stream",
          "text": [
            " Updated 23 embeddings\n",
            " Updated 24 embeddings\n",
            " Updated 25 embeddings\n",
            " Updated 26 embeddings\n"
          ]
        },
        {
          "name": "stderr",
          "output_type": "stream",
          "text": [
            "2025-09-30 14:13:12,624 - httpx - INFO - HTTP Request: POST http://127.0.0.1:11434/api/embed \"HTTP/1.1 200 OK\"\n",
            "2025-09-30 14:13:12,647 - httpx - INFO - HTTP Request: POST http://127.0.0.1:11434/api/embed \"HTTP/1.1 200 OK\"\n",
            "2025-09-30 14:13:12,675 - httpx - INFO - HTTP Request: POST http://127.0.0.1:11434/api/embed \"HTTP/1.1 200 OK\"\n"
          ]
        },
        {
          "name": "stdout",
          "output_type": "stream",
          "text": [
            " Updated 27 embeddings\n",
            " Updated 28 embeddings\n",
            " Updated 29 embeddings\n",
            " Updated 30 embeddings\n"
          ]
        },
        {
          "name": "stderr",
          "output_type": "stream",
          "text": [
            "2025-09-30 14:13:12,700 - httpx - INFO - HTTP Request: POST http://127.0.0.1:11434/api/embed \"HTTP/1.1 200 OK\"\n",
            "2025-09-30 14:13:12,729 - httpx - INFO - HTTP Request: POST http://127.0.0.1:11434/api/embed \"HTTP/1.1 200 OK\"\n",
            "2025-09-30 14:13:12,752 - httpx - INFO - HTTP Request: POST http://127.0.0.1:11434/api/embed \"HTTP/1.1 200 OK\"\n",
            "2025-09-30 14:13:12,779 - httpx - INFO - HTTP Request: POST http://127.0.0.1:11434/api/embed \"HTTP/1.1 200 OK\"\n"
          ]
        },
        {
          "name": "stdout",
          "output_type": "stream",
          "text": [
            " Updated 31 embeddings\n",
            " Updated 32 embeddings\n",
            " Updated 33 embeddings\n",
            " Updated 34 embeddings\n"
          ]
        },
        {
          "name": "stderr",
          "output_type": "stream",
          "text": [
            "2025-09-30 14:13:12,825 - httpx - INFO - HTTP Request: POST http://127.0.0.1:11434/api/embed \"HTTP/1.1 200 OK\"\n",
            "2025-09-30 14:13:12,888 - httpx - INFO - HTTP Request: POST http://127.0.0.1:11434/api/embed \"HTTP/1.1 200 OK\"\n"
          ]
        },
        {
          "name": "stdout",
          "output_type": "stream",
          "text": [
            " Updated 35 embeddings\n",
            " Updated 36 embeddings\n"
          ]
        },
        {
          "name": "stderr",
          "output_type": "stream",
          "text": [
            "2025-09-30 14:13:12,933 - httpx - INFO - HTTP Request: POST http://127.0.0.1:11434/api/embed \"HTTP/1.1 200 OK\"\n",
            "2025-09-30 14:13:12,982 - httpx - INFO - HTTP Request: POST http://127.0.0.1:11434/api/embed \"HTTP/1.1 200 OK\"\n",
            "2025-09-30 14:13:13,006 - httpx - INFO - HTTP Request: POST http://127.0.0.1:11434/api/embed \"HTTP/1.1 200 OK\"\n",
            "2025-09-30 14:13:13,034 - httpx - INFO - HTTP Request: POST http://127.0.0.1:11434/api/embed \"HTTP/1.1 200 OK\"\n"
          ]
        },
        {
          "name": "stdout",
          "output_type": "stream",
          "text": [
            " Updated 37 embeddings\n",
            " Updated 38 embeddings\n",
            " Updated 39 embeddings\n"
          ]
        },
        {
          "name": "stderr",
          "output_type": "stream",
          "text": [
            "2025-09-30 14:13:13,057 - httpx - INFO - HTTP Request: POST http://127.0.0.1:11434/api/embed \"HTTP/1.1 200 OK\"\n",
            "2025-09-30 14:13:13,085 - httpx - INFO - HTTP Request: POST http://127.0.0.1:11434/api/embed \"HTTP/1.1 200 OK\"\n",
            "2025-09-30 14:13:13,115 - httpx - INFO - HTTP Request: POST http://127.0.0.1:11434/api/embed \"HTTP/1.1 200 OK\"\n",
            "2025-09-30 14:13:13,144 - httpx - INFO - HTTP Request: POST http://127.0.0.1:11434/api/embed \"HTTP/1.1 200 OK\"\n"
          ]
        },
        {
          "name": "stdout",
          "output_type": "stream",
          "text": [
            " Updated 40 embeddings\n",
            " Updated 41 embeddings\n",
            " Updated 42 embeddings\n",
            " Updated 43 embeddings\n"
          ]
        },
        {
          "name": "stderr",
          "output_type": "stream",
          "text": [
            "2025-09-30 14:13:13,186 - httpx - INFO - HTTP Request: POST http://127.0.0.1:11434/api/embed \"HTTP/1.1 200 OK\"\n",
            "2025-09-30 14:13:13,215 - httpx - INFO - HTTP Request: POST http://127.0.0.1:11434/api/embed \"HTTP/1.1 200 OK\"\n",
            "2025-09-30 14:13:13,238 - httpx - INFO - HTTP Request: POST http://127.0.0.1:11434/api/embed \"HTTP/1.1 200 OK\"\n"
          ]
        },
        {
          "name": "stdout",
          "output_type": "stream",
          "text": [
            " Updated 44 embeddings\n",
            " Updated 45 embeddings\n",
            " Updated 46 embeddings\n"
          ]
        },
        {
          "name": "stderr",
          "output_type": "stream",
          "text": [
            "2025-09-30 14:13:13,265 - httpx - INFO - HTTP Request: POST http://127.0.0.1:11434/api/embed \"HTTP/1.1 200 OK\"\n",
            "2025-09-30 14:13:13,306 - httpx - INFO - HTTP Request: POST http://127.0.0.1:11434/api/embed \"HTTP/1.1 200 OK\"\n",
            "2025-09-30 14:13:13,335 - httpx - INFO - HTTP Request: POST http://127.0.0.1:11434/api/embed \"HTTP/1.1 200 OK\"\n"
          ]
        },
        {
          "name": "stdout",
          "output_type": "stream",
          "text": [
            " Updated 47 embeddings\n",
            " Updated 48 embeddings\n",
            " Updated 49 embeddings\n",
            " Updated 50 embeddings\n"
          ]
        },
        {
          "name": "stderr",
          "output_type": "stream",
          "text": [
            "2025-09-30 14:13:13,358 - httpx - INFO - HTTP Request: POST http://127.0.0.1:11434/api/embed \"HTTP/1.1 200 OK\"\n",
            "2025-09-30 14:13:13,386 - httpx - INFO - HTTP Request: POST http://127.0.0.1:11434/api/embed \"HTTP/1.1 200 OK\"\n",
            "2025-09-30 14:13:13,411 - httpx - INFO - HTTP Request: POST http://127.0.0.1:11434/api/embed \"HTTP/1.1 200 OK\"\n",
            "2025-09-30 14:13:13,442 - httpx - INFO - HTTP Request: POST http://127.0.0.1:11434/api/embed \"HTTP/1.1 200 OK\"\n"
          ]
        },
        {
          "name": "stdout",
          "output_type": "stream",
          "text": [
            " Updated 51 embeddings\n",
            " Updated 52 embeddings\n",
            " Updated 53 embeddings\n",
            " Updated 54 embeddings\n"
          ]
        },
        {
          "name": "stderr",
          "output_type": "stream",
          "text": [
            "2025-09-30 14:13:13,469 - httpx - INFO - HTTP Request: POST http://127.0.0.1:11434/api/embed \"HTTP/1.1 200 OK\"\n",
            "2025-09-30 14:13:13,499 - httpx - INFO - HTTP Request: POST http://127.0.0.1:11434/api/embed \"HTTP/1.1 200 OK\"\n",
            "2025-09-30 14:13:13,522 - httpx - INFO - HTTP Request: POST http://127.0.0.1:11434/api/embed \"HTTP/1.1 200 OK\"\n",
            "2025-09-30 14:13:13,549 - httpx - INFO - HTTP Request: POST http://127.0.0.1:11434/api/embed \"HTTP/1.1 200 OK\"\n"
          ]
        },
        {
          "name": "stdout",
          "output_type": "stream",
          "text": [
            " Updated 55 embeddings\n",
            " Updated 56 embeddings\n",
            " Updated 57 embeddings\n",
            " Updated 58 embeddings\n"
          ]
        },
        {
          "name": "stderr",
          "output_type": "stream",
          "text": [
            "2025-09-30 14:13:13,573 - httpx - INFO - HTTP Request: POST http://127.0.0.1:11434/api/embed \"HTTP/1.1 200 OK\"\n",
            "2025-09-30 14:13:13,602 - httpx - INFO - HTTP Request: POST http://127.0.0.1:11434/api/embed \"HTTP/1.1 200 OK\"\n",
            "2025-09-30 14:13:13,627 - httpx - INFO - HTTP Request: POST http://127.0.0.1:11434/api/embed \"HTTP/1.1 200 OK\"\n",
            "2025-09-30 14:13:13,656 - httpx - INFO - HTTP Request: POST http://127.0.0.1:11434/api/embed \"HTTP/1.1 200 OK\"\n"
          ]
        },
        {
          "name": "stdout",
          "output_type": "stream",
          "text": [
            " Updated 59 embeddings\n",
            " Updated 60 embeddings\n",
            " Updated 61 embeddings\n",
            " Updated 62 embeddings\n"
          ]
        },
        {
          "name": "stderr",
          "output_type": "stream",
          "text": [
            "2025-09-30 14:13:13,680 - httpx - INFO - HTTP Request: POST http://127.0.0.1:11434/api/embed \"HTTP/1.1 200 OK\"\n",
            "2025-09-30 14:13:13,708 - httpx - INFO - HTTP Request: POST http://127.0.0.1:11434/api/embed \"HTTP/1.1 200 OK\"\n"
          ]
        },
        {
          "name": "stdout",
          "output_type": "stream",
          "text": [
            " Updated 63 embeddings\n",
            " Updated 64 embeddings\n"
          ]
        }
      ],
      "source": [
        "# Create property embeddings \n",
        "\n",
        "# (p:PERSON): create embeddings only for nodes missing them\n",
        "Neo4jService.vectorize_property(\n",
        "                   element = \"node\", \n",
        "                   node_label = \"Person\",\n",
        "                   source_property = \"text\"\n",
        "                   )\n",
        "\n",
        "# (c:COMPANY): create embeddings only for nodes missing them\n",
        "Neo4jService.vectorize_property(\n",
        "                   element = \"node\", \n",
        "                   node_label = \"Company\", \n",
        "                   source_property = \"text\",\n",
        "                   )\n",
        "\n",
        "# [r:KNOWS]: create embeddings only for nodes missing them\n",
        "Neo4jService.vectorize_property(\n",
        "                   element = \"relationship\",\n",
        "                   rel_type = \"KNOWS\",\n",
        "                   source_property = \"text\"\n",
        "                   )"
      ]
    },
    {
      "cell_type": "markdown",
      "id": "7e3529c0",
      "metadata": {},
      "source": [
        "### 4. Search "
      ]
    },
    {
      "cell_type": "markdown",
      "id": "27ed88b9",
      "metadata": {},
      "source": [
        "Whenever we query this graph, we can use two different but complementary search techniques:\n",
        "\n",
        "1. **KG Retreival**: through **Neo4J Cypher Query Language (CQL)** we can query precise entities and relations. The input query must be translated into CQL to get the desired results.\n",
        "\n",
        "2. **Vector Retrieval**: **embedding the input query**, we can make a vector search against the vector indexes defined above.\n",
        "\n",
        "The results will be a combination of both searches.\n",
        "\n",
        "<p align=\"center\">\n",
        "  <img src=\"media/KGRAG_schema.svg\">\n",
        "</p>\n"
      ]
    },
    {
      "cell_type": "code",
      "execution_count": 36,
      "id": "a3974d68",
      "metadata": {},
      "outputs": [
        {
          "name": "stderr",
          "output_type": "stream",
          "text": [
            "2025-09-30 14:13:13,739 - httpx - INFO - HTTP Request: POST http://127.0.0.1:11434/api/embed \"HTTP/1.1 200 OK\"\n"
          ]
        },
        {
          "name": "stdout",
          "output_type": "stream",
          "text": [
            "\u001b[34m\n",
            "Running vector search query to retrieve context.\u001b[0m\n"
          ]
        },
        {
          "name": "stderr",
          "output_type": "stream",
          "text": [
            "2025-09-30 14:13:13,889 - httpx - INFO - HTTP Request: POST http://127.0.0.1:11434/api/embed \"HTTP/1.1 200 OK\"\n"
          ]
        },
        {
          "name": "stdout",
          "output_type": "stream",
          "text": [
            "{ 'query': 'Who shaved its head this summer?',\n",
            "  'total_results': 5,\n",
            "  'raw_search_results': [ { 'score': 0.837460994720459,\n",
            "                            'label': ['Person'],\n",
            "                            'properties_dict': { 'text': 'Guillermo is a male of 26 years old and studied Industrial Engineering.Guillermo has brown eyes and short hair. He has a very fancy shirt '\n",
            "                                                         'that he takes to all important events. He shaved his head this summer.',\n",
            "                                                 'location': POINT(-3.692355 40.455022),\n",
            "                                                 'name': 'Guillermo',\n",
            "                                                 'age': 26,\n",
            "                                                 'gender': 'male',\n",
            "                                                 'education': 'Industrial Engineering'},\n",
            "                            'facts': [ 'Guillermo -[WORKS_AT {\"since\":2023}]-> Lumon',\n",
            "                                       'Guillermo -[KNOWS {\"knows_from\":\"work\",\"text\":\"Paula is helping Guillermo with the project he is working on.\"}]-> Paula',\n",
            "                                       'Iria -[KNOWS {\"knows_from\":\"work\",\"text\":\"Guillermo and Iria work together in the same project with AI Agents.\"}]-> Guillermo']},\n",
            "                          { 'score': 0.7945542335510254,\n",
            "                            'label': ['Person'],\n",
            "                            'properties_dict': { 'text': 'Marina is a female of 27 years old and studied Physics.Marina has brown eyes and very long straight brunette hair. She usually wears scarfs '\n",
            "                                                         'to style her hair and long skirts. ',\n",
            "                                                 'location': POINT(-3.597745 40.4332),\n",
            "                                                 'name': 'Marina',\n",
            "                                                 'age': 27,\n",
            "                                                 'gender': 'female',\n",
            "                                                 'education': 'Physics'},\n",
            "                            'facts': [ 'Marina -[WORKS_AT {\"since\":2025}]-> CEBIME',\n",
            "                                       'Marina -[KNOWS {\"text\":\"University friends.\",\"knows_from\":\"university\"}]-> Aarón',\n",
            "                                       'Marina -[KNOWS {\"text\":\"University friends.\",\"knows_from\":\"university\"}]-> Iciar',\n",
            "                                       'Marina -[KNOWS {\"text\":\"University friends.\",\"knows_from\":\"university\"}]-> Esteban',\n",
            "                                       'Marina -[KNOWS {\"text\":\"University friends.\",\"knows_from\":\"university\"}]-> Juan',\n",
            "                                       'Marina -[KNOWS {\"text\":\"University friends.\",\"knows_from\":\"university\"}]-> Xavier',\n",
            "                                       'Marina -[KNOWS {\"knows_from\":\"school\",\"text\":\"Marina and Manuel are in a relaitonship.\"}]-> Manuel',\n",
            "                                       'Claudia -[KNOWS {\"knows_from\":\"university\",\"text\":\"Marina and Claudia go to Chinese academy together, although they met at uni.\"}]-> Marina',\n",
            "                                       'Iria -[KNOWS {\"knows_from\":\"university\",\"text\":\"Marina was Iria best friend in University, now they see each other every weekend.\"}]-> Marina']},\n",
            "                          { 'score': 0.7794909477233887,\n",
            "                            'label': ['Person'],\n",
            "                            'properties_dict': { 'text': 'Manuel is a male of 27 years old and studied Arts.Manuel has short curly hair. He loves horror movies. ',\n",
            "                                                 'location': POINT(-3.617745 40.4336),\n",
            "                                                 'name': 'Manuel',\n",
            "                                                 'age': 27,\n",
            "                                                 'gender': 'male',\n",
            "                                                 'education': 'Arts'},\n",
            "                            'facts': ['Manuel -[WORKS_AT {\"since\":2025}]-> Instagram', 'Marina -[KNOWS {\"knows_from\":\"school\",\"text\":\"Marina and Manuel are in a relaitonship.\"}]-> Manuel']},\n",
            "                          { 'score': 0.7789626121520996,\n",
            "                            'label': ['Person'],\n",
            "                            'properties_dict': { 'text': \"Claudia is a female of 26 years old and studied Physics.Claudia has long curly hair with babylights. She's petite and likes to wear \"\n",
            "                                                         'hippie-style clothes.',\n",
            "                                                 'location': POINT(-3.711451 40.4328),\n",
            "                                                 'name': 'Claudia',\n",
            "                                                 'age': 26,\n",
            "                                                 'gender': 'female',\n",
            "                                                 'education': 'Physics'},\n",
            "                            'facts': [ 'Claudia -[WORKS_AT {\"since\":2023}]-> CMT',\n",
            "                                       'Claudia -[KNOWS {\"text\":\"University friends.\",\"knows_from\":\"university\"}]-> Aarón',\n",
            "                                       'Claudia -[KNOWS {\"text\":\"University friends.\",\"knows_from\":\"university\"}]-> Iciar',\n",
            "                                       'Claudia -[KNOWS {\"text\":\"University friends.\",\"knows_from\":\"university\"}]-> Esteban',\n",
            "                                       'Claudia -[KNOWS {\"text\":\"University friends.\",\"knows_from\":\"university\"}]-> Juan',\n",
            "                                       'Claudia -[KNOWS {\"text\":\"University friends.\",\"knows_from\":\"university\"}]-> Xavier',\n",
            "                                       'Claudia -[KNOWS {\"knows_from\":\"university\",\"text\":\"Marina and Claudia go to Chinese academy together, although they met at uni.\"}]-> Marina',\n",
            "                                       'Iria -[KNOWS {\"knows_from\":\"university\",\"text\":\"Iria and Claudia now each other because they went to University together and liked going camping.\"}]-> '\n",
            "                                       'Claudia']},\n",
            "                          { 'score': 0.7631292343139648,\n",
            "                            'label': ['Person'],\n",
            "                            'properties_dict': { 'text': 'Iria is a female of 27 years old and studied Physics.Iria has blue eyes and long brunette and wavy hair. She likes to paint her nails in red '\n",
            "                                                         'or purple colours. She usually wears long earrings.',\n",
            "                                                 'location': POINT(-3.711223 40.4336),\n",
            "                                                 'name': 'Iria',\n",
            "                                                 'age': 27,\n",
            "                                                 'gender': 'female',\n",
            "                                                 'education': 'Physics'},\n",
            "                            'facts': [ 'Iria -[WORKS_AT {\"since\":2025}]-> Lumon',\n",
            "                                       'Iria -[KNOWS {\"text\":\"University friends.\",\"knows_from\":\"university\"}]-> Aarón',\n",
            "                                       'Iria -[KNOWS {\"text\":\"University friends.\",\"knows_from\":\"university\"}]-> Iciar',\n",
            "                                       'Iria -[KNOWS {\"text\":\"University friends.\",\"knows_from\":\"university\"}]-> Esteban',\n",
            "                                       'Iria -[KNOWS {\"text\":\"University friends.\",\"knows_from\":\"university\"}]-> Juan',\n",
            "                                       'Iria -[KNOWS {\"text\":\"University friends.\",\"knows_from\":\"university\"}]-> Xavier',\n",
            "                                       'Iria -[KNOWS {\"knows_from\":\"university\",\"text\":\"Marina was Iria best friend in University, now they see each other every weekend.\"}]-> Marina',\n",
            "                                       'Iria -[KNOWS {\"knows_from\":\"work\",\"text\":\"Paula is helping Iria with the project she is working on.\"}]-> Paula',\n",
            "                                       'Iria -[KNOWS {\"knows_from\":\"university\",\"text\":\"Iria and Claudia now each other because they went to University together and liked going camping.\"}]-> Claudia',\n",
            "                                       'Iria -[KNOWS {\"knows_from\":\"work\",\"text\":\"Guillermo and Iria work together in the same project with AI Agents.\"}]-> Guillermo']}],\n",
            "  'processed_search_results': [ { 'index': 0,\n",
            "                                  'score': 0.837,\n",
            "                                  'node_label': ['Person'],\n",
            "                                  'properties': { 'text': 'Guillermo is a male of 26 years old and studied Industrial Engineering.Guillermo has brown eyes and short hair. He has a very fancy shirt '\n",
            "                                                          'that he takes to all important events. He shaved his head this summer.',\n",
            "                                                  'location': POINT(-3.692355 40.455022),\n",
            "                                                  'name': 'Guillermo',\n",
            "                                                  'age': 26,\n",
            "                                                  'gender': 'male',\n",
            "                                                  'education': 'Industrial Engineering'},\n",
            "                                  'facts': [ 'Guillermo -[WORKS_AT {\"since\":2023}]-> Lumon',\n",
            "                                             'Guillermo -[KNOWS {\"knows_from\":\"work\",\"text\":\"Paula is helping Guillermo with the project he is working on.\"}]-> Paula',\n",
            "                                             'Iria -[KNOWS {\"knows_from\":\"work\",\"text\":\"Guillermo and Iria work together in the same project with AI Agents.\"}]-> Guillermo']},\n",
            "                                { 'index': 1,\n",
            "                                  'score': 0.795,\n",
            "                                  'node_label': ['Person'],\n",
            "                                  'properties': { 'text': 'Marina is a female of 27 years old and studied Physics.Marina has brown eyes and very long straight brunette hair. She usually wears scarfs '\n",
            "                                                          'to style her hair and long skirts. ',\n",
            "                                                  'location': POINT(-3.597745 40.4332),\n",
            "                                                  'name': 'Marina',\n",
            "                                                  'age': 27,\n",
            "                                                  'gender': 'female',\n",
            "                                                  'education': 'Physics'},\n",
            "                                  'facts': [ 'Marina -[WORKS_AT {\"since\":2025}]-> CEBIME',\n",
            "                                             'Marina -[KNOWS {\"text\":\"University friends.\",\"knows_from\":\"university\"}]-> Aarón',\n",
            "                                             'Marina -[KNOWS {\"text\":\"University friends.\",\"knows_from\":\"university\"}]-> Iciar',\n",
            "                                             'Marina -[KNOWS {\"text\":\"University friends.\",\"knows_from\":\"university\"}]-> Esteban',\n",
            "                                             'Marina -[KNOWS {\"text\":\"University friends.\",\"knows_from\":\"university\"}]-> Juan',\n",
            "                                             'Marina -[KNOWS {\"text\":\"University friends.\",\"knows_from\":\"university\"}]-> Xavier',\n",
            "                                             'Marina -[KNOWS {\"knows_from\":\"school\",\"text\":\"Marina and Manuel are in a relaitonship.\"}]-> Manuel',\n",
            "                                             'Claudia -[KNOWS {\"knows_from\":\"university\",\"text\":\"Marina and Claudia go to Chinese academy together, although they met at uni.\"}]-> Marina',\n",
            "                                             'Iria -[KNOWS {\"knows_from\":\"university\",\"text\":\"Marina was Iria best friend in University, now they see each other every weekend.\"}]-> Marina']},\n",
            "                                { 'index': 2,\n",
            "                                  'score': 0.779,\n",
            "                                  'node_label': ['Person'],\n",
            "                                  'properties': { 'text': 'Manuel is a male of 27 years old and studied Arts.Manuel has short curly hair. He loves horror movies. ',\n",
            "                                                  'location': POINT(-3.617745 40.4336),\n",
            "                                                  'name': 'Manuel',\n",
            "                                                  'age': 27,\n",
            "                                                  'gender': 'male',\n",
            "                                                  'education': 'Arts'},\n",
            "                                  'facts': ['Manuel -[WORKS_AT {\"since\":2025}]-> Instagram', 'Marina -[KNOWS {\"knows_from\":\"school\",\"text\":\"Marina and Manuel are in a relaitonship.\"}]-> Manuel']},\n",
            "                                { 'index': 3,\n",
            "                                  'score': 0.779,\n",
            "                                  'node_label': ['Person'],\n",
            "                                  'properties': { 'text': \"Claudia is a female of 26 years old and studied Physics.Claudia has long curly hair with babylights. She's petite and likes to wear \"\n",
            "                                                          'hippie-style clothes.',\n",
            "                                                  'location': POINT(-3.711451 40.4328),\n",
            "                                                  'name': 'Claudia',\n",
            "                                                  'age': 26,\n",
            "                                                  'gender': 'female',\n",
            "                                                  'education': 'Physics'},\n",
            "                                  'facts': [ 'Claudia -[WORKS_AT {\"since\":2023}]-> CMT',\n",
            "                                             'Claudia -[KNOWS {\"text\":\"University friends.\",\"knows_from\":\"university\"}]-> Aarón',\n",
            "                                             'Claudia -[KNOWS {\"text\":\"University friends.\",\"knows_from\":\"university\"}]-> Iciar',\n",
            "                                             'Claudia -[KNOWS {\"text\":\"University friends.\",\"knows_from\":\"university\"}]-> Esteban',\n",
            "                                             'Claudia -[KNOWS {\"text\":\"University friends.\",\"knows_from\":\"university\"}]-> Juan',\n",
            "                                             'Claudia -[KNOWS {\"text\":\"University friends.\",\"knows_from\":\"university\"}]-> Xavier',\n",
            "                                             'Claudia -[KNOWS {\"knows_from\":\"university\",\"text\":\"Marina and Claudia go to Chinese academy together, although they met at uni.\"}]-> Marina',\n",
            "                                             'Iria -[KNOWS {\"knows_from\":\"university\",\"text\":\"Iria and Claudia now each other because they went to University together and liked going camping.\"}]-> '\n",
            "                                             'Claudia']},\n",
            "                                { 'index': 4,\n",
            "                                  'score': 0.763,\n",
            "                                  'node_label': ['Person'],\n",
            "                                  'properties': { 'text': 'Iria is a female of 27 years old and studied Physics.Iria has blue eyes and long brunette and wavy hair. She likes to paint her nails in '\n",
            "                                                          'red or purple colours. She usually wears long earrings.',\n",
            "                                                  'location': POINT(-3.711223 40.4336),\n",
            "                                                  'name': 'Iria',\n",
            "                                                  'age': 27,\n",
            "                                                  'gender': 'female',\n",
            "                                                  'education': 'Physics'},\n",
            "                                  'facts': [ 'Iria -[WORKS_AT {\"since\":2025}]-> Lumon',\n",
            "                                             'Iria -[KNOWS {\"text\":\"University friends.\",\"knows_from\":\"university\"}]-> Aarón',\n",
            "                                             'Iria -[KNOWS {\"text\":\"University friends.\",\"knows_from\":\"university\"}]-> Iciar',\n",
            "                                             'Iria -[KNOWS {\"text\":\"University friends.\",\"knows_from\":\"university\"}]-> Esteban',\n",
            "                                             'Iria -[KNOWS {\"text\":\"University friends.\",\"knows_from\":\"university\"}]-> Juan',\n",
            "                                             'Iria -[KNOWS {\"text\":\"University friends.\",\"knows_from\":\"university\"}]-> Xavier',\n",
            "                                             'Iria -[KNOWS {\"knows_from\":\"university\",\"text\":\"Marina was Iria best friend in University, now they see each other every weekend.\"}]-> Marina',\n",
            "                                             'Iria -[KNOWS {\"knows_from\":\"work\",\"text\":\"Paula is helping Iria with the project she is working on.\"}]-> Paula',\n",
            "                                             'Iria -[KNOWS {\"knows_from\":\"university\",\"text\":\"Iria and Claudia now each other because they went to University together and liked going camping.\"}]-> '\n",
            "                                             'Claudia',\n",
            "                                             'Iria -[KNOWS {\"knows_from\":\"work\",\"text\":\"Guillermo and Iria work together in the same project with AI Agents.\"}]-> Guillermo']}],\n",
            "  'combined_context': 'RESULT #1: Person node\\n'\n",
            "                      'SCORE: 0.837\\n'\n",
            "                      'SOURCE TEXT: Guillermo is a male of 26 years old and studied Industrial Engineering.Guillermo has brown eyes and short hair. He has a very fancy shirt that he takes to all '\n",
            "                      'important events. He shaved his head this summer.\\n'\n",
            "                      'PROPERTIES:\\n'\n",
            "                      '-location: POINT(-3.692355 40.455022)\\n'\n",
            "                      '-name: Guillermo\\n'\n",
            "                      '-age: 26\\n'\n",
            "                      '-gender: male\\n'\n",
            "                      '-education: Industrial Engineering\\n'\n",
            "                      'FACTS:\\n'\n",
            "                      '-Guillermo -[WORKS_AT {\"since\":2023}]-> Lumon\\n'\n",
            "                      '-Guillermo -[KNOWS {\"knows_from\":\"work\",\"text\":\"Paula is helping Guillermo with the project he is working on.\"}]-> Paula\\n'\n",
            "                      '-Iria -[KNOWS {\"knows_from\":\"work\",\"text\":\"Guillermo and Iria work together in the same project with AI Agents.\"}]-> Guillermo\\n'\n",
            "                      '----------------------------------------\\n'\n",
            "                      'RESULT #2: Person node\\n'\n",
            "                      'SCORE: 0.795\\n'\n",
            "                      'SOURCE TEXT: Marina is a female of 27 years old and studied Physics.Marina has brown eyes and very long straight brunette hair. She usually wears scarfs to style her hair and '\n",
            "                      'long skirts. \\n'\n",
            "                      'PROPERTIES:\\n'\n",
            "                      '-location: POINT(-3.597745 40.4332)\\n'\n",
            "                      '-name: Marina\\n'\n",
            "                      '-age: 27\\n'\n",
            "                      '-gender: female\\n'\n",
            "                      '-education: Physics\\n'\n",
            "                      'FACTS:\\n'\n",
            "                      '-Marina -[WORKS_AT {\"since\":2025}]-> CEBIME\\n'\n",
            "                      '-Marina -[KNOWS {\"text\":\"University friends.\",\"knows_from\":\"university\"}]-> Aarón\\n'\n",
            "                      '-Marina -[KNOWS {\"text\":\"University friends.\",\"knows_from\":\"university\"}]-> Iciar\\n'\n",
            "                      '-Marina -[KNOWS {\"text\":\"University friends.\",\"knows_from\":\"university\"}]-> Esteban\\n'\n",
            "                      '-Marina -[KNOWS {\"text\":\"University friends.\",\"knows_from\":\"university\"}]-> Juan\\n'\n",
            "                      '-Marina -[KNOWS {\"text\":\"University friends.\",\"knows_from\":\"university\"}]-> Xavier\\n'\n",
            "                      '-Marina -[KNOWS {\"knows_from\":\"school\",\"text\":\"Marina and Manuel are in a relaitonship.\"}]-> Manuel\\n'\n",
            "                      '-Claudia -[KNOWS {\"knows_from\":\"university\",\"text\":\"Marina and Claudia go to Chinese academy together, although they met at uni.\"}]-> Marina\\n'\n",
            "                      '-Iria -[KNOWS {\"knows_from\":\"university\",\"text\":\"Marina was Iria best friend in University, now they see each other every weekend.\"}]-> Marina\\n'\n",
            "                      '----------------------------------------\\n'\n",
            "                      'RESULT #3: Person node\\n'\n",
            "                      'SCORE: 0.779\\n'\n",
            "                      'SOURCE TEXT: Manuel is a male of 27 years old and studied Arts.Manuel has short curly hair. He loves horror movies. \\n'\n",
            "                      'PROPERTIES:\\n'\n",
            "                      '-location: POINT(-3.617745 40.4336)\\n'\n",
            "                      '-name: Manuel\\n'\n",
            "                      '-age: 27\\n'\n",
            "                      '-gender: male\\n'\n",
            "                      '-education: Arts\\n'\n",
            "                      'FACTS:\\n'\n",
            "                      '-Manuel -[WORKS_AT {\"since\":2025}]-> Instagram\\n'\n",
            "                      '-Marina -[KNOWS {\"knows_from\":\"school\",\"text\":\"Marina and Manuel are in a relaitonship.\"}]-> Manuel\\n'\n",
            "                      '----------------------------------------\\n'\n",
            "                      'RESULT #4: Person node\\n'\n",
            "                      'SCORE: 0.779\\n'\n",
            "                      \"SOURCE TEXT: Claudia is a female of 26 years old and studied Physics.Claudia has long curly hair with babylights. She's petite and likes to wear hippie-style clothes.\\n\"\n",
            "                      'PROPERTIES:\\n'\n",
            "                      '-location: POINT(-3.711451 40.4328)\\n'\n",
            "                      '-name: Claudia\\n'\n",
            "                      '-age: 26\\n'\n",
            "                      '-gender: female\\n'\n",
            "                      '-education: Physics\\n'\n",
            "                      'FACTS:\\n'\n",
            "                      '-Claudia -[WORKS_AT {\"since\":2023}]-> CMT\\n'\n",
            "                      '-Claudia -[KNOWS {\"text\":\"University friends.\",\"knows_from\":\"university\"}]-> Aarón\\n'\n",
            "                      '-Claudia -[KNOWS {\"text\":\"University friends.\",\"knows_from\":\"university\"}]-> Iciar\\n'\n",
            "                      '-Claudia -[KNOWS {\"text\":\"University friends.\",\"knows_from\":\"university\"}]-> Esteban\\n'\n",
            "                      '-Claudia -[KNOWS {\"text\":\"University friends.\",\"knows_from\":\"university\"}]-> Juan\\n'\n",
            "                      '-Claudia -[KNOWS {\"text\":\"University friends.\",\"knows_from\":\"university\"}]-> Xavier\\n'\n",
            "                      '-Claudia -[KNOWS {\"knows_from\":\"university\",\"text\":\"Marina and Claudia go to Chinese academy together, although they met at uni.\"}]-> Marina\\n'\n",
            "                      '-Iria -[KNOWS {\"knows_from\":\"university\",\"text\":\"Iria and Claudia now each other because they went to University together and liked going camping.\"}]-> Claudia\\n'\n",
            "                      '----------------------------------------\\n'\n",
            "                      'RESULT #5: Person node\\n'\n",
            "                      'SCORE: 0.763\\n'\n",
            "                      'SOURCE TEXT: Iria is a female of 27 years old and studied Physics.Iria has blue eyes and long brunette and wavy hair. She likes to paint her nails in red or purple colours. '\n",
            "                      'She usually wears long earrings.\\n'\n",
            "                      'PROPERTIES:\\n'\n",
            "                      '-location: POINT(-3.711223 40.4336)\\n'\n",
            "                      '-name: Iria\\n'\n",
            "                      '-age: 27\\n'\n",
            "                      '-gender: female\\n'\n",
            "                      '-education: Physics\\n'\n",
            "                      'FACTS:\\n'\n",
            "                      '-Iria -[WORKS_AT {\"since\":2025}]-> Lumon\\n'\n",
            "                      '-Iria -[KNOWS {\"text\":\"University friends.\",\"knows_from\":\"university\"}]-> Aarón\\n'\n",
            "                      '-Iria -[KNOWS {\"text\":\"University friends.\",\"knows_from\":\"university\"}]-> Iciar\\n'\n",
            "                      '-Iria -[KNOWS {\"text\":\"University friends.\",\"knows_from\":\"university\"}]-> Esteban\\n'\n",
            "                      '-Iria -[KNOWS {\"text\":\"University friends.\",\"knows_from\":\"university\"}]-> Juan\\n'\n",
            "                      '-Iria -[KNOWS {\"text\":\"University friends.\",\"knows_from\":\"university\"}]-> Xavier\\n'\n",
            "                      '-Iria -[KNOWS {\"knows_from\":\"university\",\"text\":\"Marina was Iria best friend in University, now they see each other every weekend.\"}]-> Marina\\n'\n",
            "                      '-Iria -[KNOWS {\"knows_from\":\"work\",\"text\":\"Paula is helping Iria with the project she is working on.\"}]-> Paula\\n'\n",
            "                      '-Iria -[KNOWS {\"knows_from\":\"university\",\"text\":\"Iria and Claudia now each other because they went to University together and liked going camping.\"}]-> Claudia\\n'\n",
            "                      '-Iria -[KNOWS {\"knows_from\":\"work\",\"text\":\"Guillermo and Iria work together in the same project with AI Agents.\"}]-> Guillermo\\n'\n",
            "                      '----------------------------------------\\n',\n",
            "  'search_metadata': {'element': 'node', 'source_property': 'text', 'index_used': 'person_node_idx', 'top_k': 5}}\n",
            "\u001b[34m\n",
            "Running vector search query to retrieve context.\u001b[0m\n",
            "{ 'query': 'Which company investigates Cancer?',\n",
            "  'total_results': 5,\n",
            "  'raw_search_results': [ { 'score': 0.7985649108886719,\n",
            "                            'label': ['Company'],\n",
            "                            'properties_dict': { 'text': 'CEBIME operates in the Scientific Research industry.The CEBIME is a joint research centre, hosting researchers belonging to the Spanish '\n",
            "                                                         'Higher Research Council (CSIC) and the Universidad Autónoma de Madrid (UAM). Founded in 1975, the CEBIME is one of the largest Spanish '\n",
            "                                                         'multidisciplinary research centres in biomedicine, with expertise in molecular biology, biochemistry, genetics and genomics in several '\n",
            "                                                         'research areas: immunology, virology and microbiology, neuroscience, and cell and developmental biology.',\n",
            "                                                 'location': POINT(-3.690136 40.549613),\n",
            "                                                 'name': 'CEBIME',\n",
            "                                                 'industry': 'Scientific Research'},\n",
            "                            'facts': ['Marina -[WORKS_AT {\"since\":2025}]-> CEBIME']},\n",
            "                          { 'score': 0.7973012924194336,\n",
            "                            'label': ['Company'],\n",
            "                            'properties_dict': { 'text': 'CMT operates in the Scientific Research industry.The CMT (Centro de Investigaciones Energéticas, Medioambientales y Tecnológicas) is a '\n",
            "                                                         'public research organization attached to the Ministry of Science, Innovation and Universities through the General Secretariat for Research. '\n",
            "                                                         'It occupies an intermediate position in the chain that runs from the creation of basic knowledge to industrial application, so its '\n",
            "                                                         'activities always seek to serve as a bridge between R&D&I and objectives of social interest.',\n",
            "                                                 'location': POINT(-3.728925 40.453938),\n",
            "                                                 'name': 'CMT',\n",
            "                                                 'industry': 'Scientific Research'},\n",
            "                            'facts': ['Claudia -[WORKS_AT {\"since\":2023}]-> CMT']},\n",
            "                          { 'score': 0.7924199104309082,\n",
            "                            'label': ['Company'],\n",
            "                            'properties_dict': { 'text': 'Accenture operates in the Consulting Services industry.',\n",
            "                                                 'location': POINT(-3.801249 40.651321),\n",
            "                                                 'name': 'Accenture',\n",
            "                                                 'industry': 'Consulting Services'},\n",
            "                            'facts': ['Iciar -[WORKS_AT {\"since\":2025}]-> Accenture', 'Esteban -[WORKS_AT {\"since\":2024}]-> Accenture']},\n",
            "                          { 'score': 0.7778739929199219,\n",
            "                            'label': ['Company'],\n",
            "                            'properties_dict': { 'text': 'Waytronics operates in the Consulting Services industry.',\n",
            "                                                 'location': POINT(-3.801249 40.352321),\n",
            "                                                 'name': 'Waytronics',\n",
            "                                                 'industry': 'Consulting Services'},\n",
            "                            'facts': ['Juan -[WORKS_AT {\"since\":2023}]-> Waytronics']},\n",
            "                          { 'score': 0.7681069374084473,\n",
            "                            'label': ['Company'],\n",
            "                            'properties_dict': { 'text': 'Lumon operates in the Engineering industry.Lumon Group is a holding company that promotes technological progress. It includes Lumon, one of '\n",
            "                                                         'the main global defense, air traffic and space companies; and Minsait, leading digital transformation and information technologies in Spain '\n",
            "                                                         'and Latin America. ',\n",
            "                                                 'location': POINT(-3.630539 40.533873),\n",
            "                                                 'name': 'Lumon',\n",
            "                                                 'industry': 'Engineering'},\n",
            "                            'facts': [ 'Aarón -[WORKS_AT {\"since\":2023}]-> Lumon',\n",
            "                                       'Xavier -[WORKS_AT {\"since\":2023}]-> Lumon',\n",
            "                                       'Guillermo -[WORKS_AT {\"since\":2023}]-> Lumon',\n",
            "                                       'Paula -[WORKS_AT {\"since\":2024}]-> Lumon',\n",
            "                                       'Iria -[WORKS_AT {\"since\":2025}]-> Lumon']}],\n",
            "  'processed_search_results': [ { 'index': 0,\n",
            "                                  'score': 0.799,\n",
            "                                  'node_label': ['Company'],\n",
            "                                  'properties': { 'text': 'CEBIME operates in the Scientific Research industry.The CEBIME is a joint research centre, hosting researchers belonging to the Spanish '\n",
            "                                                          'Higher Research Council (CSIC) and the Universidad Autónoma de Madrid (UAM). Founded in 1975, the CEBIME is one of the largest Spanish '\n",
            "                                                          'multidisciplinary research centres in biomedicine, with expertise in molecular biology, biochemistry, genetics and genomics in several '\n",
            "                                                          'research areas: immunology, virology and microbiology, neuroscience, and cell and developmental biology.',\n",
            "                                                  'location': POINT(-3.690136 40.549613),\n",
            "                                                  'name': 'CEBIME',\n",
            "                                                  'industry': 'Scientific Research'},\n",
            "                                  'facts': ['Marina -[WORKS_AT {\"since\":2025}]-> CEBIME']},\n",
            "                                { 'index': 1,\n",
            "                                  'score': 0.797,\n",
            "                                  'node_label': ['Company'],\n",
            "                                  'properties': { 'text': 'CMT operates in the Scientific Research industry.The CMT (Centro de Investigaciones Energéticas, Medioambientales y Tecnológicas) is a '\n",
            "                                                          'public research organization attached to the Ministry of Science, Innovation and Universities through the General Secretariat for Research. '\n",
            "                                                          'It occupies an intermediate position in the chain that runs from the creation of basic knowledge to industrial application, so its '\n",
            "                                                          'activities always seek to serve as a bridge between R&D&I and objectives of social interest.',\n",
            "                                                  'location': POINT(-3.728925 40.453938),\n",
            "                                                  'name': 'CMT',\n",
            "                                                  'industry': 'Scientific Research'},\n",
            "                                  'facts': ['Claudia -[WORKS_AT {\"since\":2023}]-> CMT']},\n",
            "                                { 'index': 2,\n",
            "                                  'score': 0.792,\n",
            "                                  'node_label': ['Company'],\n",
            "                                  'properties': { 'text': 'Accenture operates in the Consulting Services industry.',\n",
            "                                                  'location': POINT(-3.801249 40.651321),\n",
            "                                                  'name': 'Accenture',\n",
            "                                                  'industry': 'Consulting Services'},\n",
            "                                  'facts': ['Iciar -[WORKS_AT {\"since\":2025}]-> Accenture', 'Esteban -[WORKS_AT {\"since\":2024}]-> Accenture']},\n",
            "                                { 'index': 3,\n",
            "                                  'score': 0.778,\n",
            "                                  'node_label': ['Company'],\n",
            "                                  'properties': { 'text': 'Waytronics operates in the Consulting Services industry.',\n",
            "                                                  'location': POINT(-3.801249 40.352321),\n",
            "                                                  'name': 'Waytronics',\n",
            "                                                  'industry': 'Consulting Services'},\n",
            "                                  'facts': ['Juan -[WORKS_AT {\"since\":2023}]-> Waytronics']},\n",
            "                                { 'index': 4,\n",
            "                                  'score': 0.768,\n",
            "                                  'node_label': ['Company'],\n",
            "                                  'properties': { 'text': 'Lumon operates in the Engineering industry.Lumon Group is a holding company that promotes technological progress. It includes Lumon, one of '\n",
            "                                                          'the main global defense, air traffic and space companies; and Minsait, leading digital transformation and information technologies in Spain '\n",
            "                                                          'and Latin America. ',\n",
            "                                                  'location': POINT(-3.630539 40.533873),\n",
            "                                                  'name': 'Lumon',\n",
            "                                                  'industry': 'Engineering'},\n",
            "                                  'facts': [ 'Aarón -[WORKS_AT {\"since\":2023}]-> Lumon',\n",
            "                                             'Xavier -[WORKS_AT {\"since\":2023}]-> Lumon',\n",
            "                                             'Guillermo -[WORKS_AT {\"since\":2023}]-> Lumon',\n",
            "                                             'Paula -[WORKS_AT {\"since\":2024}]-> Lumon',\n",
            "                                             'Iria -[WORKS_AT {\"since\":2025}]-> Lumon']}],\n",
            "  'combined_context': 'RESULT #1: Company node\\n'\n",
            "                      'SCORE: 0.799\\n'\n",
            "                      'SOURCE TEXT: CEBIME operates in the Scientific Research industry.The CEBIME is a joint research centre, hosting researchers belonging to the Spanish Higher Research Council '\n",
            "                      '(CSIC) and the Universidad Autónoma de Madrid (UAM). Founded in 1975, the CEBIME is one of the largest Spanish multidisciplinary research centres in biomedicine, with '\n",
            "                      'expertise in molecular biology, biochemistry, genetics and genomics in several research areas: immunology, virology and microbiology, neuroscience, and cell and developmental '\n",
            "                      'biology.\\n'\n",
            "                      'PROPERTIES:\\n'\n",
            "                      '-location: POINT(-3.690136 40.549613)\\n'\n",
            "                      '-name: CEBIME\\n'\n",
            "                      '-industry: Scientific Research\\n'\n",
            "                      'FACTS:\\n'\n",
            "                      '-Marina -[WORKS_AT {\"since\":2025}]-> CEBIME\\n'\n",
            "                      '----------------------------------------\\n'\n",
            "                      'RESULT #2: Company node\\n'\n",
            "                      'SCORE: 0.797\\n'\n",
            "                      'SOURCE TEXT: CMT operates in the Scientific Research industry.The CMT (Centro de Investigaciones Energéticas, Medioambientales y Tecnológicas) is a public research '\n",
            "                      'organization attached to the Ministry of Science, Innovation and Universities through the General Secretariat for Research. It occupies an intermediate position in the chain '\n",
            "                      'that runs from the creation of basic knowledge to industrial application, so its activities always seek to serve as a bridge between R&D&I and objectives of social interest.\\n'\n",
            "                      'PROPERTIES:\\n'\n",
            "                      '-location: POINT(-3.728925 40.453938)\\n'\n",
            "                      '-name: CMT\\n'\n",
            "                      '-industry: Scientific Research\\n'\n",
            "                      'FACTS:\\n'\n",
            "                      '-Claudia -[WORKS_AT {\"since\":2023}]-> CMT\\n'\n",
            "                      '----------------------------------------\\n'\n",
            "                      'RESULT #3: Company node\\n'\n",
            "                      'SCORE: 0.792\\n'\n",
            "                      'SOURCE TEXT: Accenture operates in the Consulting Services industry.\\n'\n",
            "                      'PROPERTIES:\\n'\n",
            "                      '-location: POINT(-3.801249 40.651321)\\n'\n",
            "                      '-name: Accenture\\n'\n",
            "                      '-industry: Consulting Services\\n'\n",
            "                      'FACTS:\\n'\n",
            "                      '-Iciar -[WORKS_AT {\"since\":2025}]-> Accenture\\n'\n",
            "                      '-Esteban -[WORKS_AT {\"since\":2024}]-> Accenture\\n'\n",
            "                      '----------------------------------------\\n'\n",
            "                      'RESULT #4: Company node\\n'\n",
            "                      'SCORE: 0.778\\n'\n",
            "                      'SOURCE TEXT: Waytronics operates in the Consulting Services industry.\\n'\n",
            "                      'PROPERTIES:\\n'\n",
            "                      '-location: POINT(-3.801249 40.352321)\\n'\n",
            "                      '-name: Waytronics\\n'\n",
            "                      '-industry: Consulting Services\\n'\n",
            "                      'FACTS:\\n'\n",
            "                      '-Juan -[WORKS_AT {\"since\":2023}]-> Waytronics\\n'\n",
            "                      '----------------------------------------\\n'\n",
            "                      'RESULT #5: Company node\\n'\n",
            "                      'SCORE: 0.768\\n'\n",
            "                      'SOURCE TEXT: Lumon operates in the Engineering industry.Lumon Group is a holding company that promotes technological progress. It includes Lumon, one of the main global '\n",
            "                      'defense, air traffic and space companies; and Minsait, leading digital transformation and information technologies in Spain and Latin America. \\n'\n",
            "                      'PROPERTIES:\\n'\n",
            "                      '-location: POINT(-3.630539 40.533873)\\n'\n",
            "                      '-name: Lumon\\n'\n",
            "                      '-industry: Engineering\\n'\n",
            "                      'FACTS:\\n'\n",
            "                      '-Aarón -[WORKS_AT {\"since\":2023}]-> Lumon\\n'\n",
            "                      '-Xavier -[WORKS_AT {\"since\":2023}]-> Lumon\\n'\n",
            "                      '-Guillermo -[WORKS_AT {\"since\":2023}]-> Lumon\\n'\n",
            "                      '-Paula -[WORKS_AT {\"since\":2024}]-> Lumon\\n'\n",
            "                      '-Iria -[WORKS_AT {\"since\":2025}]-> Lumon\\n'\n",
            "                      '----------------------------------------\\n',\n",
            "  'search_metadata': {'element': 'node', 'source_property': 'text', 'index_used': 'company_node_idx', 'top_k': 5}}\n"
          ]
        }
      ],
      "source": [
        "# KG RAG Search\n",
        "\n",
        "# Query Nodes\n",
        "result = Neo4jService.neo4j_KGRAG_search(\n",
        "                             query = \"Who shaved its head this summer?\", \n",
        "                             index = \"person_node_idx\",\n",
        "                             source_property = \"text\",\n",
        "                             main_property = \"name\",\n",
        "                             top_k = 5\n",
        "                             )\n",
        "pprint(result, width = 200, sort_dicts=False, indent=2)\n",
        "file = \"data/friends/friends_context_1.txt\"\n",
        "with open(file, 'w', encoding='utf-8') as f:\n",
        "  f.write(result.get(\"combined_context\", \"\"))\n",
        "\n",
        "result  = Neo4jService.neo4j_KGRAG_search(\n",
        "                                query = \"Which company investigates Cancer?\",\n",
        "                                index = \"company_node_idx\",\n",
        "                                source_property = \"text\",\n",
        "                                main_property = \"name\",\n",
        "                                top_k = 5\n",
        "                              )\n",
        "pprint(result, width = 200, sort_dicts=False, indent=2)\n",
        "file = \"data/friends/friends_context_2.txt\"\n",
        "with open(file, 'w', encoding='utf-8') as f:\n",
        "  f.write(result.get(\"combined_context\", \"\"))"
      ]
    },
    {
      "cell_type": "code",
      "execution_count": 37,
      "id": "08d133a5",
      "metadata": {},
      "outputs": [
        {
          "name": "stderr",
          "output_type": "stream",
          "text": [
            "2025-09-30 14:13:13,948 - httpx - INFO - HTTP Request: POST http://127.0.0.1:11434/api/embed \"HTTP/1.1 200 OK\"\n"
          ]
        },
        {
          "name": "stdout",
          "output_type": "stream",
          "text": [
            "\u001b[34m\n",
            "Running vector search query to retrieve context.\u001b[0m\n",
            "{'query': 'Who is helping Iria at work?',\n",
            " 'total_results': 5,\n",
            " 'raw_search_results': [{'score': 0.9195809364318848,\n",
            "                         'type': 'KNOWS',\n",
            "                         'properties_dict': {'text': 'Paula is helping Iria with the project she is working on.', 'knows_from': 'work'},\n",
            "                         'facts': ['Iria -[KNOWS {\"knows_from\":\"work\",\"text\":\"Paula is helping Iria with the project she is working on.\"}]-> Paula']},\n",
            "                        {'score': 0.8711152076721191,\n",
            "                         'type': 'KNOWS',\n",
            "                         'properties_dict': {'text': 'Guillermo and Iria work together in the same project with AI Agents.', 'knows_from': 'work'},\n",
            "                         'facts': ['Iria -[KNOWS {\"knows_from\":\"work\",\"text\":\"Guillermo and Iria work together in the same project with AI Agents.\"}]-> Guillermo']},\n",
            "                        {'score': 0.8619155883789062,\n",
            "                         'type': 'KNOWS',\n",
            "                         'properties_dict': {'text': 'Paula is helping Guillermo with the project he is working on.', 'knows_from': 'work'},\n",
            "                         'facts': ['Guillermo -[KNOWS {\"knows_from\":\"work\",\"text\":\"Paula is helping Guillermo with the project he is working on.\"}]-> Paula']},\n",
            "                        {'score': 0.8200564384460449,\n",
            "                         'type': 'KNOWS',\n",
            "                         'properties_dict': {'text': 'Marina was Iria best friend in University, now they see each other every weekend.', 'knows_from': 'university'},\n",
            "                         'facts': ['Iria -[KNOWS {\"knows_from\":\"university\",\"text\":\"Marina was Iria best friend in University, now they see each other every weekend.\"}]-> Marina']},\n",
            "                        {'score': 0.8112649917602539,\n",
            "                         'type': 'KNOWS',\n",
            "                         'properties_dict': {'text': 'Iria and Claudia now each other because they went to University together and liked going camping.', 'knows_from': 'university'},\n",
            "                         'facts': ['Iria -[KNOWS {\"knows_from\":\"university\",\"text\":\"Iria and Claudia now each other because they went to University together and liked going camping.\"}]-> Claudia']}],\n",
            " 'processed_search_results': [{'index': 0,\n",
            "                               'score': 0.92,\n",
            "                               'relationship_type': 'KNOWS',\n",
            "                               'properties': {'text': 'Paula is helping Iria with the project she is working on.', 'knows_from': 'work'},\n",
            "                               'facts': ['Iria -[KNOWS {\"knows_from\":\"work\",\"text\":\"Paula is helping Iria with the project she is working on.\"}]-> Paula']},\n",
            "                              {'index': 1,\n",
            "                               'score': 0.871,\n",
            "                               'relationship_type': 'KNOWS',\n",
            "                               'properties': {'text': 'Guillermo and Iria work together in the same project with AI Agents.', 'knows_from': 'work'},\n",
            "                               'facts': ['Iria -[KNOWS {\"knows_from\":\"work\",\"text\":\"Guillermo and Iria work together in the same project with AI Agents.\"}]-> Guillermo']},\n",
            "                              {'index': 2,\n",
            "                               'score': 0.862,\n",
            "                               'relationship_type': 'KNOWS',\n",
            "                               'properties': {'text': 'Paula is helping Guillermo with the project he is working on.', 'knows_from': 'work'},\n",
            "                               'facts': ['Guillermo -[KNOWS {\"knows_from\":\"work\",\"text\":\"Paula is helping Guillermo with the project he is working on.\"}]-> Paula']},\n",
            "                              {'index': 3,\n",
            "                               'score': 0.82,\n",
            "                               'relationship_type': 'KNOWS',\n",
            "                               'properties': {'text': 'Marina was Iria best friend in University, now they see each other every weekend.', 'knows_from': 'university'},\n",
            "                               'facts': ['Iria -[KNOWS {\"knows_from\":\"university\",\"text\":\"Marina was Iria best friend in University, now they see each other every weekend.\"}]-> Marina']},\n",
            "                              {'index': 4,\n",
            "                               'score': 0.811,\n",
            "                               'relationship_type': 'KNOWS',\n",
            "                               'properties': {'text': 'Iria and Claudia now each other because they went to University together and liked going camping.', 'knows_from': 'university'},\n",
            "                               'facts': ['Iria -[KNOWS {\"knows_from\":\"university\",\"text\":\"Iria and Claudia now each other because they went to University together and liked going camping.\"}]-> '\n",
            "                                         'Claudia']}],\n",
            " 'combined_context': 'RESULT #1: KNOWS relationship\\n'\n",
            "                     'SCORE: 0.92\\n'\n",
            "                     'SOURCE TEXT: Paula is helping Iria with the project she is working on.\\n'\n",
            "                     'PROPERTIES:\\n'\n",
            "                     '-knows_from: work\\n'\n",
            "                     'FACTS:\\n'\n",
            "                     '-Iria -[KNOWS {\"knows_from\":\"work\",\"text\":\"Paula is helping Iria with the project she is working on.\"}]-> Paula\\n'\n",
            "                     '----------------------------------------\\n'\n",
            "                     'RESULT #2: KNOWS relationship\\n'\n",
            "                     'SCORE: 0.871\\n'\n",
            "                     'SOURCE TEXT: Guillermo and Iria work together in the same project with AI Agents.\\n'\n",
            "                     'PROPERTIES:\\n'\n",
            "                     '-knows_from: work\\n'\n",
            "                     'FACTS:\\n'\n",
            "                     '-Iria -[KNOWS {\"knows_from\":\"work\",\"text\":\"Guillermo and Iria work together in the same project with AI Agents.\"}]-> Guillermo\\n'\n",
            "                     '----------------------------------------\\n'\n",
            "                     'RESULT #3: KNOWS relationship\\n'\n",
            "                     'SCORE: 0.862\\n'\n",
            "                     'SOURCE TEXT: Paula is helping Guillermo with the project he is working on.\\n'\n",
            "                     'PROPERTIES:\\n'\n",
            "                     '-knows_from: work\\n'\n",
            "                     'FACTS:\\n'\n",
            "                     '-Guillermo -[KNOWS {\"knows_from\":\"work\",\"text\":\"Paula is helping Guillermo with the project he is working on.\"}]-> Paula\\n'\n",
            "                     '----------------------------------------\\n'\n",
            "                     'RESULT #4: KNOWS relationship\\n'\n",
            "                     'SCORE: 0.82\\n'\n",
            "                     'SOURCE TEXT: Marina was Iria best friend in University, now they see each other every weekend.\\n'\n",
            "                     'PROPERTIES:\\n'\n",
            "                     '-knows_from: university\\n'\n",
            "                     'FACTS:\\n'\n",
            "                     '-Iria -[KNOWS {\"knows_from\":\"university\",\"text\":\"Marina was Iria best friend in University, now they see each other every weekend.\"}]-> Marina\\n'\n",
            "                     '----------------------------------------\\n'\n",
            "                     'RESULT #5: KNOWS relationship\\n'\n",
            "                     'SCORE: 0.811\\n'\n",
            "                     'SOURCE TEXT: Iria and Claudia now each other because they went to University together and liked going camping.\\n'\n",
            "                     'PROPERTIES:\\n'\n",
            "                     '-knows_from: university\\n'\n",
            "                     'FACTS:\\n'\n",
            "                     '-Iria -[KNOWS {\"knows_from\":\"university\",\"text\":\"Iria and Claudia now each other because they went to University together and liked going camping.\"}]-> Claudia\\n'\n",
            "                     '----------------------------------------\\n',\n",
            " 'search_metadata': {'element': 'relationship', 'source_property': 'text', 'index_used': 'know_relationship_idx', 'top_k': 5}}\n"
          ]
        }
      ],
      "source": [
        "# Query Relationships\n",
        "result  = Neo4jService.neo4j_KGRAG_search(\n",
        "                              query = \"Who is helping Iria at work?\",\n",
        "                              index = \"know_relationship_idx\",\n",
        "                              source_property = \"text\",\n",
        "                              main_property = \"name\",\n",
        "                              top_k = 5\n",
        "                              )\n",
        "pprint(result, width = 200, sort_dicts=False)\n",
        "\n",
        "file = \"data/friends/friends_context_3.txt\"\n",
        "with open(file, 'w', encoding='utf-8') as f:\n",
        "  f.write(result.get(\"combined_context\", \"\"))\n"
      ]
    }
  ],
  "metadata": {
    "kernelspec": {
      "display_name": ".venv",
      "language": "python",
      "name": "python3"
    },
    "language_info": {
      "codemirror_mode": {
        "name": "ipython",
        "version": 3
      },
      "file_extension": ".py",
      "mimetype": "text/x-python",
      "name": "python",
      "nbconvert_exporter": "python",
      "pygments_lexer": "ipython3",
      "version": "3.12.3"
    }
  },
  "nbformat": 4,
  "nbformat_minor": 5
}
