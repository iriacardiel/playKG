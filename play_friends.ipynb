{
  "cells": [
    {
      "cell_type": "markdown",
      "metadata": {},
      "source": [
        "# Neo4j Hello World (Notebook) - Friends Use Case\n",
        "\n",
        "This notebook connects to a local Neo4j **Community** instance (via Docker), creates a tiny graph, and queries it.\n",
        "\n",
        "**Assumes** \n",
        " \n",
        " \n",
        "- Neo4j service is running at `bolt://localhost:${URI_PORT}` with the user and password set in the `.env` file. **Run `docker compose up -d`**.\n",
        "- Ollama service is up on `http://localhost:11434` (ollama default). **Run `ollama serve` and pull the model `ollama pull nomic-embed-text`** (if not pulled yet).\n",
        "\n"
      ]
    },
    {
      "cell_type": "code",
      "execution_count": null,
      "id": "b89b0006",
      "metadata": {},
      "outputs": [],
      "source": [
        "# Dependencies\n",
        "\n",
        "import os\n",
        "from dotenv import load_dotenv  \n",
        "import yaml\n",
        "from pathlib import Path\n",
        "from pprint import pprint\n",
        "from termcolor import cprint\n",
        "from langchain_neo4j import Neo4jGraph\n",
        "from neo4j import GraphDatabase\n",
        "\n",
        "from helpers import helper_folium, helper_leaflet, helper_neo4j\n"
      ]
    },
    {
      "cell_type": "code",
      "execution_count": null,
      "id": "568b0f14",
      "metadata": {},
      "outputs": [],
      "source": [
        "# Environment variables\n",
        "\n",
        "load_dotenv()  # Load local environment variables\n",
        "\n",
        "URI = \"bolt://localhost:\" + os.environ.get(\"URI_PORT\")\n",
        "NEO4J_USER = os.environ.get(\"NEO4J_USER\")\n",
        "NEO4J_PWD = os.environ.get(\"NEO4J_PASSWORD\")\n",
        "NEO4J_DB = os.getenv(\"NEO4J_DATABASE\", \"neo4j\")    # 👈 choose DB here\n",
        "\n",
        "cprint(f\"Connecting to Neo4j at {URI}.\", \"green\")"
      ]
    },
    {
      "cell_type": "code",
      "execution_count": null,
      "id": "2f7b41f3",
      "metadata": {},
      "outputs": [],
      "source": [
        "# Load cypher queries\n",
        "\n",
        "queries = yaml.safe_load(Path(\"data/friends/queries_friends.yaml\").read_text())\n",
        "queries.keys()  # list available queries"
      ]
    },
    {
      "cell_type": "code",
      "execution_count": null,
      "id": "efb7bb2b",
      "metadata": {},
      "outputs": [],
      "source": [
        "# Neo4j Langchain wrapper instance\n",
        "kg = Neo4jGraph(url=URI, username=NEO4J_USER, password=NEO4J_PWD, database=NEO4J_DB)\n",
        "\n",
        "# Alternative: Neo4j Driver instance\n",
        "driver = GraphDatabase.driver(uri=URI, auth=(NEO4J_USER, NEO4J_PWD))\n",
        "with driver.session(database=NEO4J_DB) as session:\n",
        "    \n",
        "    dbinfo = session.run(\"CALL db.info()\").single()"
      ]
    },
    {
      "cell_type": "markdown",
      "id": "cd1f619f",
      "metadata": {},
      "source": [
        "### 1. Create data"
      ]
    },
    {
      "cell_type": "markdown",
      "id": "bdc69e5a",
      "metadata": {},
      "source": [
        "<p align=\"center\">\n",
        "  <img src=\"media/KG_step1_populate_graph.svg\" width=\"550\">\n",
        "</p>\n",
        "\n",
        "\n",
        "- **Entities**: Person and Company nodes with unique constraints (unique name and uuid)\n",
        "- **Relationships**: KNOWS (person-to-person) and WORKS_AT (person-to-company)\n",
        "- **Properties**: Basic attributes (name, age, education, industry)\n"
      ]
    },
    {
      "cell_type": "code",
      "execution_count": null,
      "id": "93f7c53e",
      "metadata": {},
      "outputs": [],
      "source": [
        "# Populate graph\n",
        "\n",
        "cprint(f\"\\nConnected to Neo4j database: {NEO4J_DB}\", \"green\")\n",
        "\n",
        "cprint(\"\\nCreating constraints (if not exist)\", \"green\")\n",
        "for q in queries[\"constraints\"]:\n",
        "    kg.query(q)\n",
        "\n",
        "cprint(\"\\nInit Cleanup.\", \"green\")\n",
        "for q in queries[\"delete_all\"]:\n",
        "    kg.query(q)\n",
        "    \n",
        "cprint(\"\\nCreate data\", \"green\")\n",
        "kg.query(queries[\"create_seed\"])\n",
        "\n"
      ]
    },
    {
      "cell_type": "code",
      "execution_count": null,
      "id": "cbc466bf",
      "metadata": {},
      "outputs": [],
      "source": [
        "# Example cypher queries\n",
        "\n",
        "cprint(\"\\nQuery: list all people\", \"green\")\n",
        "records = kg.query(queries[\"show_people\"]) # <class 'list'>\n",
        "for r in records:\n",
        "    print(r)\n",
        "    \n",
        "cprint(\"\\nQuery: list all companies\", \"green\")\n",
        "records = kg.query(queries[\"show_companies\"]) # <class 'list'>\n",
        "for r in records:\n",
        "    print(r)\n",
        "\n",
        "cprint(\"\\nQuery: adjacency (who knows whom)\", \"green\")\n",
        "records = kg.query(queries[\"match_adjacency\"]) # <class 'list'>\n",
        "for r in records:\n",
        "    print(r)"
      ]
    },
    {
      "cell_type": "markdown",
      "id": "5a5a13ae",
      "metadata": {},
      "source": [
        "### 2.A Add rich text info"
      ]
    },
    {
      "cell_type": "markdown",
      "id": "593c82a7",
      "metadata": {},
      "source": [
        "<p align=\"center\">\n",
        "  <img src=\"media/KG_step2_generate_rich_descriptions.svg\" width=\"750\">\n",
        "</p>\n"
      ]
    },
    {
      "cell_type": "code",
      "execution_count": null,
      "id": "875ecf64",
      "metadata": {},
      "outputs": [],
      "source": [
        "# Add rich text descriptions \n",
        "\n",
        "cprint(\"\\nQuery: Adding descriptions, appearance and summaries\", \"green\")\n",
        "for q in queries[\"add_text\"]:\n",
        "    kg.query(q)\n"
      ]
    },
    {
      "cell_type": "code",
      "execution_count": null,
      "id": "f0431cd8",
      "metadata": {},
      "outputs": [],
      "source": [
        "# Show descriptions\n",
        "records = kg.query(queries[\"show_text\"])\n",
        "for r in records:\n",
        "    print(r)"
      ]
    },
    {
      "cell_type": "markdown",
      "id": "af7f8bfc",
      "metadata": {},
      "source": [
        "### 2.B Add location info"
      ]
    },
    {
      "cell_type": "code",
      "execution_count": null,
      "id": "80af921e",
      "metadata": {},
      "outputs": [],
      "source": [
        "# Add location property \n",
        "\n",
        "cprint(\"\\nQuery: Adding location property\", \"green\")\n",
        "for q in queries[\"add_locations\"]:\n",
        "    kg.query(q)"
      ]
    },
    {
      "cell_type": "code",
      "execution_count": null,
      "id": "58197a73",
      "metadata": {},
      "outputs": [],
      "source": [
        "# Show locations and plot maps\n",
        "records = kg.query(queries[\"show_locations\"])\n",
        "# Replace with your query result rows\n",
        "# records = [\n",
        "#     {\"name\":\"Iria\",\"lat\":40.437596,\"lon\":-3.711223,\"labels\":[\"Person\"]},\n",
        "#     {\"name\":\"Guillermo\",\"lat\":40.455022,\"lon\":-3.692355,\"labels\":[\"Person\"]},\n",
        "#     {\"name\":\"Gabriela\",\"lat\":40.475721,\"lon\":-3.711451,\"labels\":[\"Person\"]},\n",
        "#     {\"name\":\"Paula\",\"lat\":40.490170,\"lon\":-3.654654,\"labels\":[\"Person\"]},\n",
        "#     {\"name\":\"Cristina\",\"lat\":40.367462,\"lon\":-3.597745,\"labels\":[\"Person\"]},\n",
        "#     {\"name\":\"Indra\",\"lat\":40.396648,\"lon\":-3.624635,\"labels\":[\"Company\"]},\n",
        "#     {\"name\":\"CIEMAT\",\"lat\":40.453938,\"lon\":-3.728925,\"labels\":[\"Company\"]},\n",
        "#     {\"name\":\"CBM\",\"lat\":40.549613,\"lon\":-3.690136,\"labels\":[\"Company\"]},\n",
        "# ]\n",
        "for r in records:\n",
        "    print(r)\n",
        "\n",
        "# Follium map\n",
        "helper_folium.create_map_from_rows(records)\n",
        "\n",
        "# Leaflet map\n",
        "helper_leaflet.create_map_from_rows(records)"
      ]
    },
    {
      "cell_type": "markdown",
      "id": "9427991a",
      "metadata": {},
      "source": [
        "### 3. Create property embeddings (first step into RAG) "
      ]
    },
    {
      "cell_type": "markdown",
      "id": "3f4cc4d8",
      "metadata": {},
      "source": [
        "<p align=\"center\">\n",
        "  <img src=\"media/KG_step3_generate_property_embeddings.svg\" width=\"750\">\n",
        "</p>\n",
        "\n",
        "**RAG** implementation requires selecting a **property to embed and use for similarity searches**. \n",
        "\n",
        "Description properties containing **rich text** work well for this purpose, as they provide richer semantic information. In our example, we'll use *text*.\n",
        "\n",
        "In order to do so, we create two vector indexes in Neo4j:\n",
        "\n",
        "- **Vector index *person_node_info_idx***: based on property ***info_emb*** for nodes of type \"Person\"\n",
        "-  **Vector index *company_node_info_idx***: based on property ***info_emb*** for nodes of type \"Company\"\n",
        "\n",
        "After that, we create the embeddings (this happens for both Person nodes and Company nodes):\n",
        "\n",
        "- **Property *text*** ---`nomic-embed-text`---> **Property *embedding***\n"
      ]
    },
    {
      "cell_type": "code",
      "execution_count": null,
      "id": "956d8609",
      "metadata": {},
      "outputs": [],
      "source": [
        "# Create vector indexes\n",
        "\n",
        "for q in queries[\"create_vector_indexes\"]:\n",
        "    kg.query(q)\n",
        "\n",
        "# Show created vector indexes\n",
        "results = kg.query(\"SHOW VECTOR INDEXES\")\n",
        "idx = list(results)\n",
        "cprint(f\"\\nFound {len(idx)} vector index entries.\", \"green\")\n",
        "for r in idx:\n",
        "    cprint(\"-\"*20,\"green\")\n",
        "    pprint(r)"
      ]
    },
    {
      "cell_type": "code",
      "execution_count": null,
      "id": "7ba85683",
      "metadata": {},
      "outputs": [],
      "source": [
        "# Create property embeddings \n",
        "\n",
        "# (p:PERSON): create embeddings only for nodes missing them\n",
        "helper_neo4j.vectorize_property(runner = kg.query,\n",
        "                   element = \"node\", \n",
        "                   node_label = \"Person\",\n",
        "                   source_property = \"text\"\n",
        "                   )\n",
        "\n",
        "# (c:COMPANY): create embeddings only for nodes missing them\n",
        "helper_neo4j.vectorize_property(runner = kg.query,\n",
        "                   element = \"node\", \n",
        "                   node_label = \"Company\", \n",
        "                   source_property = \"text\",\n",
        "                   )\n",
        "\n",
        "# [r:KNOWS]: create embeddings only for nodes missing them\n",
        "helper_neo4j.vectorize_property(runner = kg.query,\n",
        "                   element = \"relationship\",\n",
        "                   rel_type = \"KNOWS\",\n",
        "                   source_property = \"text\"\n",
        "                   )"
      ]
    },
    {
      "cell_type": "markdown",
      "id": "7e3529c0",
      "metadata": {},
      "source": [
        "### 4. Search "
      ]
    },
    {
      "cell_type": "markdown",
      "id": "27ed88b9",
      "metadata": {},
      "source": [
        "Whenever we query this graph, we can use two different but complementary search techniques:\n",
        "\n",
        "1. **KG Retreival**: through **Neo4J Cypher Query Language (CQL)** we can query precise entities and relations. The input query must be translated into CQL to get the desired results.\n",
        "\n",
        "2. **Vector Retrieval**: **embedding the input query**, we can make a vector search against the vector indexes defined above.\n",
        "\n",
        "The results will be a combination of both searches.\n",
        "\n",
        "<p align=\"center\">\n",
        "  <img src=\"media/KGRAG_schema.svg\">\n",
        "</p>\n"
      ]
    },
    {
      "cell_type": "code",
      "execution_count": null,
      "id": "a3974d68",
      "metadata": {},
      "outputs": [],
      "source": [
        "# KG RAG Search\n",
        "\n",
        "# Query Nodes\n",
        "result = helper_neo4j.neo4j_KGRAG_search(runner = kg.query,\n",
        "                             query = \"Who shaved its head this summer?\", \n",
        "                             index = \"person_node_idx\",\n",
        "                             source_property = \"text\",\n",
        "                             main_property = \"name\",\n",
        "                             top_k = 5\n",
        "                             )\n",
        "pprint(result, width = 200, sort_dicts=False, indent=2)\n",
        "file = \"data/friends/friends_context_1.txt\"\n",
        "with open(file, 'w', encoding='utf-8') as f:\n",
        "  f.write(result.get(\"combined_context\", \"\"))\n",
        "\n",
        "result  = helper_neo4j.neo4j_KGRAG_search(runner = kg.query,\n",
        "                                query = \"Which company investigates Cancer?\",\n",
        "                                index = \"company_node_idx\",\n",
        "                                source_property = \"text\",\n",
        "                                main_property = \"name\",\n",
        "                                top_k = 5\n",
        "                              )\n",
        "pprint(result, width = 200, sort_dicts=False, indent=2)\n",
        "file = \"data/friends/friends_context_2.txt\"\n",
        "with open(file, 'w', encoding='utf-8') as f:\n",
        "  f.write(result.get(\"combined_context\", \"\"))"
      ]
    },
    {
      "cell_type": "code",
      "execution_count": null,
      "id": "08d133a5",
      "metadata": {},
      "outputs": [],
      "source": [
        "# Query Relationships\n",
        "result  = helper_neo4j.neo4j_KGRAG_search(runner = kg.query,\n",
        "                              query = \"Who is helping Iria at work?\",\n",
        "                              index = \"know_relationship_idx\",\n",
        "                              source_property = \"text\",\n",
        "                              main_property = \"name\",\n",
        "                              top_k = 5\n",
        "                              )\n",
        "pprint(result, width = 200, sort_dicts=False)\n",
        "\n",
        "file = \"data/friends/friends_context_3.txt\"\n",
        "with open(file, 'w', encoding='utf-8') as f:\n",
        "  f.write(result.get(\"combined_context\", \"\"))\n"
      ]
    }
  ],
  "metadata": {
    "kernelspec": {
      "display_name": ".venv",
      "language": "python",
      "name": "python3"
    },
    "language_info": {
      "codemirror_mode": {
        "name": "ipython",
        "version": 3
      },
      "file_extension": ".py",
      "mimetype": "text/x-python",
      "name": "python",
      "nbconvert_exporter": "python",
      "pygments_lexer": "ipython3",
      "version": "3.12.3"
    }
  },
  "nbformat": 4,
  "nbformat_minor": 5
}
